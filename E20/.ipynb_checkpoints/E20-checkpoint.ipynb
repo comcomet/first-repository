{
 "cells": [
  {
   "cell_type": "code",
   "execution_count": null,
   "metadata": {},
   "outputs": [],
   "source": [
    "import requests\n",
    "import os\n",
    "\n",
    "# 아래 url은 yahoo finance 서버에 우리나라 코스피 데이터를 요청하는 주소입니다.\n",
    "url = \"https://query1.finance.yahoo.com/v7/finance/download/%5EKS11?period1=867715200&period2=1597276800&interval=1d&events=history\"\n",
    "\n",
    "# 데이터를 요청하고 그 결과를 response로 받습니다.\n",
    "response = requests.get(url)\n",
    "\n",
    "csv_file = os.getenv('HOME')+'/aiffel/anomaly_detection/kospi/kospi.csv'\n",
    "\n",
    "# response 의 컨텐츠를 csv로 저장합니다.\n",
    "with open(csv_file, \"w\") as fp:  \n",
    "    fp.write(response.text)"
   ]
  },
  {
   "cell_type": "code",
   "execution_count": null,
   "metadata": {},
   "outputs": [],
   "source": [
    "# 저장한 csv를 읽어옵니다.\n",
    "import pandas as pd\n",
    "df = pd.read_csv(csv_file)\n",
    "df.head(2)"
   ]
  },
  {
   "cell_type": "code",
   "execution_count": null,
   "metadata": {},
   "outputs": [],
   "source": [
    "# 날짜데이터를 Datetime 형식으로 바꿔줍니다.\n",
    "df.loc[:,'Date'] = pd.to_datetime(df.Date)\n",
    "\n",
    "# 데이터의 정합성을 확인합니다\n",
    "df.isna().sum()"
   ]
  },
  {
   "cell_type": "code",
   "execution_count": null,
   "metadata": {},
   "outputs": [],
   "source": [
    "print(\"삭제 전 데이터 길이(일자수):\",len(df))\n",
    "df = df.dropna(axis=0).reset_index(drop=True)\n",
    "\n",
    "print(\"삭제 후 데이터 길이(일자수):\",len(df))\n",
    "df.isna().sum()"
   ]
  },
  {
   "cell_type": "code",
   "execution_count": null,
   "metadata": {},
   "outputs": [],
   "source": [
    "import matplotlib.pyplot as plt\n",
    "from matplotlib.pylab import rcParams\n",
    "\n",
    "plt.rcParams[\"figure.figsize\"] = (12,5)\n",
    "# Line Graph by matplotlib with wide-form DataFrame\n",
    "\n",
    "plt.plot(df.Date, df.Close, marker='s', color='r')\n",
    "plt.plot(df.Date, df.High, marker='o', color='g')\n",
    "plt.plot(df.Date, df.Low, marker='*', color='b')\n",
    "plt.plot(df.Date, df.Open, marker='+', color='y')\n",
    "\n",
    "plt.title('KOSPI ', fontsize=20) \n",
    "plt.ylabel('Stock', fontsize=14)\n",
    "plt.xlabel('Date', fontsize=14)\n",
    "plt.legend(['Close', 'High', 'Low', 'Open'], fontsize=12, loc='best')\n",
    "\n",
    "plt.show()"
   ]
  },
  {
   "cell_type": "code",
   "execution_count": null,
   "metadata": {},
   "outputs": [],
   "source": [
    "df.loc[df.Low > df.High]"
   ]
  },
  {
   "cell_type": "code",
   "execution_count": null,
   "metadata": {},
   "outputs": [],
   "source": []
  },
  {
   "cell_type": "code",
   "execution_count": null,
   "metadata": {},
   "outputs": [],
   "source": []
  },
  {
   "cell_type": "code",
   "execution_count": null,
   "metadata": {},
   "outputs": [],
   "source": []
  },
  {
   "cell_type": "code",
   "execution_count": null,
   "metadata": {},
   "outputs": [],
   "source": []
  },
  {
   "cell_type": "code",
   "execution_count": null,
   "metadata": {},
   "outputs": [],
   "source": []
  },
  {
   "cell_type": "code",
   "execution_count": null,
   "metadata": {},
   "outputs": [],
   "source": []
  }
 ],
 "metadata": {
  "kernelspec": {
   "display_name": "aiffel",
   "language": "python",
   "name": "aiffel"
  },
  "language_info": {
   "codemirror_mode": {
    "name": "ipython",
    "version": 3
   },
   "file_extension": ".py",
   "mimetype": "text/x-python",
   "name": "python",
   "nbconvert_exporter": "python",
   "pygments_lexer": "ipython3",
   "version": "3.7.6"
  }
 },
 "nbformat": 4,
 "nbformat_minor": 4
}
