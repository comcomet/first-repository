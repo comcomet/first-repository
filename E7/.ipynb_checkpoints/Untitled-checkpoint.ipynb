{
 "cells": [
  {
   "cell_type": "code",
   "execution_count": 1,
   "metadata": {},
   "outputs": [],
   "source": [
    "from bs4 import BeautifulSoup\n",
    "import requests\n",
    "\n",
    "#URL 가져오기\n",
    "url = 'https://m.stock.naver.com/marketindex/index.nhn'\n",
    "response = requests.get(url)\n"
   ]
  },
  {
   "cell_type": "code",
   "execution_count": 7,
   "metadata": {},
   "outputs": [
    {
     "name": "stdout",
     "output_type": "stream",
     "text": [
      "[<strong class=\"stock_item\">미국USD</strong>, <strong class=\"stock_item\">유럽EUR</strong>, <strong class=\"stock_item\">일본JPY</strong>, <strong class=\"stock_item\">중국CNY</strong>, <strong class=\"stock_item\">국제금</strong>, <strong class=\"stock_item\">유가WTI</strong>, <strong class=\"provider_layer__tit\">컨텐츠 제공업체</strong>, <strong>증권</strong>]\n",
      "---------------------------------------\n",
      "[<span class=\"stock_item\">달러인덱스</span>, <span class=\"stock_item\">남아프리카 ZAR</span>, <span class=\"stock_item\">노르웨이 NOK</span>, <span class=\"stock_item\">뉴질랜드 NZD</span>, <span class=\"stock_item\">대만 TWD</span>, <span class=\"stock_item\">덴마크 DKK</span>, <span class=\"stock_item\">러시아 RUB</span>, <span class=\"stock_item\">말레이지아 MYR</span>, <span class=\"stock_item\">멕시코 MXN</span>, <span class=\"stock_item\">몽골 MNT</span>, <span class=\"stock_item\">미국 USD</span>, <span class=\"stock_item\">바레인 BHD</span>, <span class=\"stock_item\">방글라데시 BDT</span>, <span class=\"stock_item\">베트남 VND 100</span>, <span class=\"stock_item\">브라질 BRL</span>, <span class=\"stock_item\">브루나이 BND</span>, <span class=\"stock_item\">사우디 SAR</span>, <span class=\"stock_item\">스웨덴 SEK</span>, <span class=\"stock_item\">스위스 CHF</span>, <span class=\"stock_item\">싱가포르 SGD</span>, <span class=\"stock_item\">아랍에미 AED</span>, <span class=\"stock_item\">영국 GBP</span>, <span class=\"stock_item\">오만 OMR</span>, <span class=\"stock_item\">요르단 JOD</span>, <span class=\"stock_item\">유럽연합 EUR</span>, <span class=\"stock_item\">이스라엘 ILS</span>, <span class=\"stock_item\">이집트 EGP</span>, <span class=\"stock_item\">인도 INR</span>, <span class=\"stock_item\">인도네시아 IDR</span>, <span class=\"stock_item\">일본 JPY 100</span>, <span class=\"stock_item\">중국원화 CNY</span>, <span class=\"stock_item\">체코 CZK</span>, <span class=\"stock_item\">칠레 CLP</span>, <span class=\"stock_item\">카자흐스탄 KZT</span>, <span class=\"stock_item\">카타르 QAR</span>, <span class=\"stock_item\">캐나다 CAD</span>, <span class=\"stock_item\">쿠웨이트 KWD</span>, <span class=\"stock_item\">태국 THB</span>, <span class=\"stock_item\">터키 TRY</span>, <span class=\"stock_item\">파키스탄 PKR</span>, <span class=\"stock_item\">폴란드 PLN</span>, <span class=\"stock_item\">필리핀 PHP</span>, <span class=\"stock_item\">헝가리 HUF</span>, <span class=\"stock_item\">호주 AUD</span>, <span class=\"stock_item\">홍콩 HKD</span>]\n"
     ]
    }
   ],
   "source": [
    "\n",
    "#Soup 객체 생성\n",
    "soup = BeautifulSoup(response.text, 'html.parser')\n",
    "\n",
    "#원하는 데이터 추출 - 국가\n",
    "country = []\n",
    "country_1 = soup.findAll('strong')\n",
    "country_2 = soup.findAll('span', {'class':'stock_item'})\n",
    "print(country_1)\n",
    "\n",
    "print(\"---------------------------------------\")\n",
    "print(country_2)\n",
    "for c in country_1:\n",
    "    country.append(c.text)\n",
    "for c in country_2:\n",
    "    country.append(c.text)\n",
    "    \n",
    "country.remove('컨텐츠 제공업체')\n",
    "country.remove('증권')\n",
    "\n",
    "#print(country)"
   ]
  },
  {
   "cell_type": "code",
   "execution_count": 3,
   "metadata": {},
   "outputs": [
    {
     "name": "stdout",
     "output_type": "stream",
     "text": [
      "['1,183.30', '1,411.62', '1,120.92', '171.08', '1,999.40', '42.89', '92.25', '68.28', '133.76', '781.33', '40.25', '189.59', '16.17', '282.92', '53.36', '0.41', '1,183.30', '3,138.89', '13.95', '5.11', '216.43', '866.47', '315.50', '136.89', '1,309.25', '866.47', '322.15', '1,566.33', '3,073.35', '1,668.97', '1,411.62', '348.16', '74.28', '15.84', '8.03', '1,120.92', '171.08', '54.08', '1.49', '2.83', '323.04', '898.82', '3,875.23', '37.93', '160.39', '7.03', '322.52', '24.38', '4.05', '856.18', '152.68']\n"
     ]
    }
   ],
   "source": [
    "#원하는 데이터 추출 - 환율정보\n",
    "price = []\n",
    "price_0 = soup.findAll('span', {\"class\":\"stock_price\"})\n",
    "for p in price_0:\n",
    "    price.append(p.text)\n",
    "\n",
    "print(price)"
   ]
  },
  {
   "cell_type": "code",
   "execution_count": 4,
   "metadata": {},
   "outputs": [
    {
     "data": {
      "text/plain": [
       "미국USD          1,183.30\n",
       "유럽EUR          1,411.62\n",
       "일본JPY          1,120.92\n",
       "중국CNY            171.08\n",
       "국제금            1,999.40\n",
       "유가WTI             42.89\n",
       "달러인덱스             92.25\n",
       "남아프리카 ZAR         68.28\n",
       "노르웨이 NOK         133.76\n",
       "뉴질랜드 NZD         781.33\n",
       "대만 TWD            40.25\n",
       "덴마크 DKK          189.59\n",
       "러시아 RUB           16.17\n",
       "말레이지아 MYR        282.92\n",
       "멕시코 MXN           53.36\n",
       "몽골 MNT             0.41\n",
       "미국 USD         1,183.30\n",
       "바레인 BHD        3,138.89\n",
       "방글라데시 BDT         13.95\n",
       "베트남 VND 100        5.11\n",
       "브라질 BRL          216.43\n",
       "브루나이 BND         866.47\n",
       "사우디 SAR          315.50\n",
       "스웨덴 SEK          136.89\n",
       "스위스 CHF        1,309.25\n",
       "싱가포르 SGD         866.47\n",
       "아랍에미 AED         322.15\n",
       "영국 GBP         1,566.33\n",
       "오만 OMR         3,073.35\n",
       "요르단 JOD        1,668.97\n",
       "유럽연합 EUR       1,411.62\n",
       "이스라엘 ILS         348.16\n",
       "이집트 EGP           74.28\n",
       "인도 INR            15.84\n",
       "인도네시아 IDR          8.03\n",
       "일본 JPY 100     1,120.92\n",
       "중국원화 CNY         171.08\n",
       "체코 CZK            54.08\n",
       "칠레 CLP             1.49\n",
       "카자흐스탄 KZT          2.83\n",
       "카타르 QAR          323.04\n",
       "캐나다 CAD          898.82\n",
       "쿠웨이트 KWD       3,875.23\n",
       "태국 THB            37.93\n",
       "터키 TRY           160.39\n",
       "파키스탄 PKR           7.03\n",
       "폴란드 PLN          322.52\n",
       "필리핀 PHP           24.38\n",
       "헝가리 HUF            4.05\n",
       "호주 AUD           856.18\n",
       "홍콩 HKD           152.68\n",
       "dtype: object"
      ]
     },
     "execution_count": 4,
     "metadata": {},
     "output_type": "execute_result"
    }
   ],
   "source": [
    "#데이터 정렬, (pandas)\n",
    "import pandas as pd\n",
    "data = {}\n",
    "for i in range(len(country)):\n",
    "    data[country[i]] = price[i]\n",
    "\n",
    "pd.Series(data)"
   ]
  },
  {
   "cell_type": "code",
   "execution_count": null,
   "metadata": {},
   "outputs": [],
   "source": []
  }
 ],
 "metadata": {
  "kernelspec": {
   "display_name": "aiffel",
   "language": "python",
   "name": "aiffel"
  },
  "language_info": {
   "codemirror_mode": {
    "name": "ipython",
    "version": 3
   },
   "file_extension": ".py",
   "mimetype": "text/x-python",
   "name": "python",
   "nbconvert_exporter": "python",
   "pygments_lexer": "ipython3",
   "version": "3.7.6"
  }
 },
 "nbformat": 4,
 "nbformat_minor": 4
}
