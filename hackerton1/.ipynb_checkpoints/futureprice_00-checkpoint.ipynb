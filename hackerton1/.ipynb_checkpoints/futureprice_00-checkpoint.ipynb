{
 "cells": [
  {
   "cell_type": "code",
   "execution_count": 1,
   "metadata": {},
   "outputs": [
    {
     "data": {
      "text/plain": [
       "sys.version_info(major=3, minor=7, micro=6, releaselevel='final', serial=0)"
      ]
     },
     "execution_count": 1,
     "metadata": {},
     "output_type": "execute_result"
    }
   ],
   "source": [
    "import numpy as np \n",
    "import pandas as pd\n",
    "pd.set_option('display.max_rows', 500) \n",
    "pd.set_option('display.max_columns', 100) \n",
    "# 특별한 데이터 조작을 위한 라이브러리 add on. \n",
    "from itertools import product \n",
    "from sklearn.preprocessing import LabelEncoder \n",
    "# 사용할 시각화 툴 seaborn, pyplot. \n",
    "import seaborn as sns \n",
    "import matplotlib.pyplot as plt \n",
    "%matplotlib inline \n",
    "# model은 xgboost을 사용합니다. \n",
    "from xgboost import XGBRegressor \n",
    "from xgboost import plot_importance\n",
    "def plot_features(booster, figsize): \n",
    "    fig, ax = plt.subplots(1,1,figsize=figsize) \n",
    "    return plot_importance(booster=booster, ax=ax) \n",
    "# 메모리, 실행시간, 데이터 저장 등, 기타 목적을 위한 라이브러리들. \n",
    "import time \n",
    "import sys \n",
    "import gc \n",
    "import pickle \n",
    "sys.version_info\n"
   ]
  },
  {
   "cell_type": "code",
   "execution_count": 2,
   "metadata": {},
   "outputs": [],
   "source": [
    "import os\n",
    "from os.path import join\n",
    "\n",
    "data_dir = os.getenv('HOME')+'/workplace/hackerton1'\n",
    "\n",
    "items_data_path = join(data_dir, 'items.csv')\n",
    "shops_data_path = join(data_dir, 'shops.csv')  \n",
    "cats_data_path = join(data_dir, 'item_categories.csv')  \n",
    "train_data_path = join(data_dir, 'sales_train.csv')\n",
    "test_data_path = join(data_dir, 'test.csv')\n",
    "\n",
    "items = pd.read_csv(items_data_path) \n",
    "shops = pd.read_csv(shops_data_path) \n",
    "cats = pd.read_csv(cats_data_path) \n",
    "train = pd.read_csv(train_data_path) \n",
    "# set index to ID to avoid droping it later \n",
    "test = pd.read_csv(test_data_path).set_index('ID')"
   ]
  },
  {
   "cell_type": "code",
   "execution_count": 3,
   "metadata": {},
   "outputs": [
    {
     "data": {
      "text/plain": [
       "<matplotlib.axes._subplots.AxesSubplot at 0x7ff73d1ec410>"
      ]
     },
     "execution_count": 3,
     "metadata": {},
     "output_type": "execute_result"
    },
    {
     "data": {
      "image/png": "[encoded data removed]",
      "text/plain": [
       "<Figure size 720x288 with 1 Axes>"
      ]
     },
     "metadata": {
      "needs_background": "light"
     },
     "output_type": "display_data"
    },
    {
     "data": {
      "image/png": "[encoded data removed]",
      "text/plain": [
       "<Figure size 720x288 with 1 Axes>"
      ]
     },
     "metadata": {
      "needs_background": "light"
     },
     "output_type": "display_data"
    }
   ],
   "source": [
    "plt.figure(figsize=(10,4)) \n",
    "plt.xlim(-100, 3000) \n",
    "sns.boxplot(x=train.item_cnt_day) \n",
    "plt.figure(figsize=(10,4)) \n",
    "plt.xlim(train.item_price.min(), train.item_price.max()*1.1) \n",
    "sns.boxplot(x=train.item_price)"
   ]
  },
  {
   "cell_type": "code",
   "execution_count": 4,
   "metadata": {},
   "outputs": [],
   "source": [
    "train = train[train.item_price<100000] \n",
    "train = train[train.item_cnt_day<1001]\n"
   ]
  },
  {
   "cell_type": "code",
   "execution_count": 5,
   "metadata": {},
   "outputs": [
    {
     "data": {
      "text/plain": [
       "<matplotlib.axes._subplots.AxesSubplot at 0x7ff73d198490>"
      ]
     },
     "execution_count": 5,
     "metadata": {},
     "output_type": "execute_result"
    },
    {
     "data": {
      "image/png": "[encoded data removed]",
      "text/plain": [
       "<Figure size 720x288 with 1 Axes>"
      ]
     },
     "metadata": {
      "needs_background": "light"
     },
     "output_type": "display_data"
    }
   ],
   "source": [
    "plt.figure(figsize=(10,4)) \n",
    "plt.xlim(train.item_price.min(), 0) \n",
    "sns.boxplot(x=train.item_price)"
   ]
  },
  {
   "cell_type": "code",
   "execution_count": 6,
   "metadata": {},
   "outputs": [],
   "source": [
    "median = train[(train.shop_id==32)&(train.item_id==2973)&(train.date_block_num==4)&(train.item_price>0)].item_price.median() \n",
    "train.loc[train.item_price<0, 'item_price'] = median"
   ]
  },
  {
   "cell_type": "code",
   "execution_count": 7,
   "metadata": {},
   "outputs": [],
   "source": [
    "# Якутск Орджоникидзе, 56 \n",
    "train.loc[train.shop_id == 0, 'shop_id'] = 57 \n",
    "test.loc[test.shop_id == 0, 'shop_id'] = 57 \n",
    "# Якутск ТЦ \"Центральный\" \n",
    "train.loc[train.shop_id == 1, 'shop_id'] = 58 \n",
    "test.loc[test.shop_id == 1, 'shop_id'] = 58\n",
    "# Жуковский ул. Чкалова 39м² \n",
    "train.loc[train.shop_id == 10, 'shop_id'] = 11 \n",
    "test.loc[test.shop_id == 10, 'shop_id'] = 11"
   ]
  },
  {
   "cell_type": "code",
   "execution_count": 8,
   "metadata": {},
   "outputs": [],
   "source": [
    "shops.loc[shops.shop_name == 'Сергиев Посад ТЦ \"7Я\"', 'shop_name'] = 'СергиевПосад ТЦ \"7Я\"'"
   ]
  },
  {
   "cell_type": "code",
   "execution_count": 9,
   "metadata": {},
   "outputs": [],
   "source": [
    "# shop_name 으로부터 city 를 추출하여 새로운 Feature를 만듭니다. \n",
    "shops['city'] = shops['shop_name'].str.split(' ').map(lambda x: x[0]) \n",
    "shops.loc[shops.city == '!Якутск', 'city'] = 'Якутск' \n",
    "# Якутск 역시, 통일되지 않은 도시라 보정해줍니다. \n",
    "# city 를 LabelEncoder 로 encoding 하여 새로운 Feature를 만듭니다. \n",
    "shops['city_code'] = LabelEncoder().fit_transform(shops['city']) \n",
    "shops = shops[['shop_id','city_code']]"
   ]
  },
  {
   "cell_type": "code",
   "execution_count": 10,
   "metadata": {},
   "outputs": [],
   "source": [
    "cats['split'] = cats['item_category_name'].str.split('-') \n",
    "cats['type'] = cats['split'].map(lambda x: x[0].strip()) \n",
    "cats['type_code'] = LabelEncoder().fit_transform(cats['type'])"
   ]
  },
  {
   "cell_type": "code",
   "execution_count": 11,
   "metadata": {},
   "outputs": [],
   "source": [
    "# if subtype is nan then type \n",
    "cats['subtype'] = cats['split'].map(lambda x: x[1].strip() if len(x) > 1 else x[0].strip()) \n",
    "cats['subtype_code'] = LabelEncoder().fit_transform(cats['subtype']) \n",
    "cats = cats[['item_category_id','type_code', 'subtype_code']]"
   ]
  },
  {
   "cell_type": "code",
   "execution_count": 12,
   "metadata": {},
   "outputs": [],
   "source": [
    "items.drop(['item_name'], axis=1, inplace=True)"
   ]
  },
  {
   "cell_type": "code",
   "execution_count": 13,
   "metadata": {},
   "outputs": [
    {
     "data": {
      "text/plain": [
       "(363, 5100, 214200)"
      ]
     },
     "execution_count": 13,
     "metadata": {},
     "output_type": "execute_result"
    }
   ],
   "source": [
    "len(list(set(test.item_id) - set(test.item_id).intersection(set(train.item_id)))), len(list(set(test.item_id))), len(test)"
   ]
  },
  {
   "cell_type": "code",
   "execution_count": 16,
   "metadata": {},
   "outputs": [
    {
     "ename": "TypeError",
     "evalue": "cannot concatenate object of type '<class 'numpy.ndarray'>'; only Series and DataFrame objs are valid",
     "output_type": "error",
     "traceback": [
      "\u001b[0;31m---------------------------------------------------------------------------\u001b[0m",
      "\u001b[0;31mTypeError\u001b[0m                                 Traceback (most recent call last)",
      "\u001b[0;32m<ipython-input-16-aff3af668b75>\u001b[0m in \u001b[0;36m<module>\u001b[0;34m\u001b[0m\n\u001b[1;32m      4\u001b[0m \u001b[0;32mfor\u001b[0m \u001b[0mi\u001b[0m \u001b[0;32min\u001b[0m \u001b[0mrange\u001b[0m\u001b[0;34m(\u001b[0m\u001b[0;36m34\u001b[0m\u001b[0;34m)\u001b[0m\u001b[0;34m:\u001b[0m\u001b[0;34m\u001b[0m\u001b[0;34m\u001b[0m\u001b[0m\n\u001b[1;32m      5\u001b[0m     \u001b[0msales\u001b[0m \u001b[0;34m=\u001b[0m \u001b[0mtrain\u001b[0m\u001b[0;34m[\u001b[0m\u001b[0mtrain\u001b[0m\u001b[0;34m.\u001b[0m\u001b[0mdate_block_num\u001b[0m\u001b[0;34m==\u001b[0m\u001b[0mi\u001b[0m\u001b[0;34m]\u001b[0m\u001b[0;34m\u001b[0m\u001b[0;34m\u001b[0m\u001b[0m\n\u001b[0;32m----> 6\u001b[0;31m     \u001b[0mmatrix\u001b[0m\u001b[0;34m.\u001b[0m\u001b[0mappend\u001b[0m\u001b[0;34m(\u001b[0m\u001b[0mnp\u001b[0m\u001b[0;34m.\u001b[0m\u001b[0marray\u001b[0m\u001b[0;34m(\u001b[0m\u001b[0mlist\u001b[0m\u001b[0;34m(\u001b[0m\u001b[0mproduct\u001b[0m\u001b[0;34m(\u001b[0m\u001b[0;34m[\u001b[0m\u001b[0mi\u001b[0m\u001b[0;34m]\u001b[0m\u001b[0;34m,\u001b[0m \u001b[0msales\u001b[0m\u001b[0;34m.\u001b[0m\u001b[0mshop_id\u001b[0m\u001b[0;34m.\u001b[0m\u001b[0munique\u001b[0m\u001b[0;34m(\u001b[0m\u001b[0;34m)\u001b[0m\u001b[0;34m,\u001b[0m \u001b[0msales\u001b[0m\u001b[0;34m.\u001b[0m\u001b[0mitem_id\u001b[0m\u001b[0;34m.\u001b[0m\u001b[0munique\u001b[0m\u001b[0;34m(\u001b[0m\u001b[0;34m)\u001b[0m\u001b[0;34m)\u001b[0m\u001b[0;34m)\u001b[0m\u001b[0;34m,\u001b[0m \u001b[0mdtype\u001b[0m\u001b[0;34m=\u001b[0m\u001b[0;34m'int16'\u001b[0m\u001b[0;34m)\u001b[0m\u001b[0;34m)\u001b[0m\u001b[0;34m\u001b[0m\u001b[0;34m\u001b[0m\u001b[0m\n\u001b[0m\u001b[1;32m      7\u001b[0m     \u001b[0mmatrix\u001b[0m \u001b[0;34m=\u001b[0m \u001b[0mpd\u001b[0m\u001b[0;34m.\u001b[0m\u001b[0mDataFrame\u001b[0m\u001b[0;34m(\u001b[0m\u001b[0mnp\u001b[0m\u001b[0;34m.\u001b[0m\u001b[0mvstack\u001b[0m\u001b[0;34m(\u001b[0m\u001b[0mmatrix\u001b[0m\u001b[0;34m)\u001b[0m\u001b[0;34m,\u001b[0m \u001b[0mcolumns\u001b[0m\u001b[0;34m=\u001b[0m\u001b[0mcols\u001b[0m\u001b[0;34m)\u001b[0m\u001b[0;34m\u001b[0m\u001b[0;34m\u001b[0m\u001b[0m\n\u001b[1;32m      8\u001b[0m     \u001b[0mmatrix\u001b[0m\u001b[0;34m[\u001b[0m\u001b[0;34m'date_block_num'\u001b[0m\u001b[0;34m]\u001b[0m \u001b[0;34m=\u001b[0m \u001b[0mmatrix\u001b[0m\u001b[0;34m[\u001b[0m\u001b[0;34m'date_block_num'\u001b[0m\u001b[0;34m]\u001b[0m\u001b[0;34m.\u001b[0m\u001b[0mastype\u001b[0m\u001b[0;34m(\u001b[0m\u001b[0mnp\u001b[0m\u001b[0;34m.\u001b[0m\u001b[0mint8\u001b[0m\u001b[0;34m)\u001b[0m\u001b[0;34m\u001b[0m\u001b[0;34m\u001b[0m\u001b[0m\n",
      "\u001b[0;32m~/anaconda3/envs/aiffel/lib/python3.7/site-packages/pandas/core/frame.py\u001b[0m in \u001b[0;36mappend\u001b[0;34m(self, other, ignore_index, verify_integrity, sort)\u001b[0m\n\u001b[1;32m   7083\u001b[0m             \u001b[0mignore_index\u001b[0m\u001b[0;34m=\u001b[0m\u001b[0mignore_index\u001b[0m\u001b[0;34m,\u001b[0m\u001b[0;34m\u001b[0m\u001b[0;34m\u001b[0m\u001b[0m\n\u001b[1;32m   7084\u001b[0m             \u001b[0mverify_integrity\u001b[0m\u001b[0;34m=\u001b[0m\u001b[0mverify_integrity\u001b[0m\u001b[0;34m,\u001b[0m\u001b[0;34m\u001b[0m\u001b[0;34m\u001b[0m\u001b[0m\n\u001b[0;32m-> 7085\u001b[0;31m             \u001b[0msort\u001b[0m\u001b[0;34m=\u001b[0m\u001b[0msort\u001b[0m\u001b[0;34m,\u001b[0m\u001b[0;34m\u001b[0m\u001b[0;34m\u001b[0m\u001b[0m\n\u001b[0m\u001b[1;32m   7086\u001b[0m         )\n\u001b[1;32m   7087\u001b[0m \u001b[0;34m\u001b[0m\u001b[0m\n",
      "\u001b[0;32m~/anaconda3/envs/aiffel/lib/python3.7/site-packages/pandas/core/reshape/concat.py\u001b[0m in \u001b[0;36mconcat\u001b[0;34m(objs, axis, join, ignore_index, keys, levels, names, verify_integrity, sort, copy)\u001b[0m\n\u001b[1;32m    279\u001b[0m         \u001b[0mverify_integrity\u001b[0m\u001b[0;34m=\u001b[0m\u001b[0mverify_integrity\u001b[0m\u001b[0;34m,\u001b[0m\u001b[0;34m\u001b[0m\u001b[0;34m\u001b[0m\u001b[0m\n\u001b[1;32m    280\u001b[0m         \u001b[0mcopy\u001b[0m\u001b[0;34m=\u001b[0m\u001b[0mcopy\u001b[0m\u001b[0;34m,\u001b[0m\u001b[0;34m\u001b[0m\u001b[0;34m\u001b[0m\u001b[0m\n\u001b[0;32m--> 281\u001b[0;31m         \u001b[0msort\u001b[0m\u001b[0;34m=\u001b[0m\u001b[0msort\u001b[0m\u001b[0;34m,\u001b[0m\u001b[0;34m\u001b[0m\u001b[0;34m\u001b[0m\u001b[0m\n\u001b[0m\u001b[1;32m    282\u001b[0m     )\n\u001b[1;32m    283\u001b[0m \u001b[0;34m\u001b[0m\u001b[0m\n",
      "\u001b[0;32m~/anaconda3/envs/aiffel/lib/python3.7/site-packages/pandas/core/reshape/concat.py\u001b[0m in \u001b[0;36m__init__\u001b[0;34m(self, objs, axis, join, keys, levels, names, ignore_index, verify_integrity, copy, sort)\u001b[0m\n\u001b[1;32m    355\u001b[0m                     \u001b[0;34m\"only Series and DataFrame objs are valid\"\u001b[0m\u001b[0;34m.\u001b[0m\u001b[0mformat\u001b[0m\u001b[0;34m(\u001b[0m\u001b[0mtyp\u001b[0m\u001b[0;34m=\u001b[0m\u001b[0mtype\u001b[0m\u001b[0;34m(\u001b[0m\u001b[0mobj\u001b[0m\u001b[0;34m)\u001b[0m\u001b[0;34m)\u001b[0m\u001b[0;34m\u001b[0m\u001b[0;34m\u001b[0m\u001b[0m\n\u001b[1;32m    356\u001b[0m                 )\n\u001b[0;32m--> 357\u001b[0;31m                 \u001b[0;32mraise\u001b[0m \u001b[0mTypeError\u001b[0m\u001b[0;34m(\u001b[0m\u001b[0mmsg\u001b[0m\u001b[0;34m)\u001b[0m\u001b[0;34m\u001b[0m\u001b[0;34m\u001b[0m\u001b[0m\n\u001b[0m\u001b[1;32m    358\u001b[0m \u001b[0;34m\u001b[0m\u001b[0m\n\u001b[1;32m    359\u001b[0m             \u001b[0;31m# consolidate\u001b[0m\u001b[0;34m\u001b[0m\u001b[0;34m\u001b[0m\u001b[0;34m\u001b[0m\u001b[0m\n",
      "\u001b[0;31mTypeError\u001b[0m: cannot concatenate object of type '<class 'numpy.ndarray'>'; only Series and DataFrame objs are valid"
     ]
    }
   ],
   "source": [
    "ts = time.time() \n",
    "matrix = [] \n",
    "cols = ['date_block_num','shop_id','item_id'] \n",
    "for i in range(34): \n",
    "    sales = train[train.date_block_num==i] \n",
    "    matrix.append(np.array(list(product([i], sales.shop_id.unique(), sales.item_id.unique())), dtype='int16')) \n",
    "matrix = pd.DataFrame(np.vstack(matrix), columns=cols) \n",
    "matrix['date_block_num'] = matrix['date_block_num'].astype(np.int8) \n",
    "matrix['shop_id'] = matrix['shop_id'].astype(np.int8)\n",
    "matrix['item_id'] = matrix['item_id'].astype(np.int16) \n",
    "matrix.sort_values(cols,inplace=True) \n",
    "time.time() - ts\n"
   ]
  },
  {
   "cell_type": "code",
   "execution_count": null,
   "metadata": {},
   "outputs": [],
   "source": [
    "ts = time.time() \n",
    "group = train.groupby(['date_block_num','shop_id','item_id']).agg({'item_cnt_day': ['sum']}) \n",
    "group.columns = ['item_cnt_month'] \n",
    "group.reset_index(inplace=True) \n",
    "matrix = pd.merge(matrix, group, on=cols, how='left') \n",
    "matrix['item_cnt_month'] = (matrix['item_cnt_month'] .fillna(0) .clip(0,20) \n",
    "                            # NB clip target here \n",
    "                            .astype(np.float16)) \n",
    "time.time() - ts\n"
   ]
  },
  {
   "cell_type": "code",
   "execution_count": null,
   "metadata": {},
   "outputs": [],
   "source": [
    "test['date_block_num'] = 34 \n",
    "test['date_block_num'] = test['date_block_num'].astype(np.int8) \n",
    "test['shop_id'] = test['shop_id'].astype(np.int8) \n",
    "test['item_id'] = test['item_id'].astype(np.int16)\n",
    "test.head()\n"
   ]
  },
  {
   "cell_type": "code",
   "execution_count": null,
   "metadata": {},
   "outputs": [],
   "source": [
    "ts = time.time() \n",
    "matrix = pd.concat([matrix, test], ignore_index=True, sort=False, keys=cols) \n",
    "matrix.fillna(0, inplace=True) \n",
    "# 34 month \n",
    "time.time() - ts"
   ]
  },
  {
   "cell_type": "code",
   "execution_count": null,
   "metadata": {},
   "outputs": [],
   "source": [
    "ts = time.time() \n",
    "matrix = pd.merge(matrix, shops, on=['shop_id'], how='left') \n",
    "matrix = pd.merge(matrix, items, on=['item_id'], how='left') \n",
    "matrix = pd.merge(matrix, cats, on=['item_category_id'], how='left') \n",
    "matrix['city_code'] = matrix['city_code'].astype(np.int8) \n",
    "matrix['item_category_id'] = matrix['item_category_id'].astype(np.int8) \n",
    "matrix['type_code'] = matrix['type_code'].astype(np.int8) \n",
    "matrix['subtype_code'] = matrix['subtype_code'].astype(np.int8) \n",
    "time.time() - ts"
   ]
  },
  {
   "cell_type": "code",
   "execution_count": null,
   "metadata": {},
   "outputs": [],
   "source": [
    "def lag_feature(df, lags, col): \n",
    "    \"\"\" 이전 달의 feature 들을, 현재 월의 feature 로 둡니다. 이 떄, 이전 달들의 정보는 lags 에, 사용할 feature 들은 col 에 담겨져 있습니다. \"\"\" \n",
    "    tmp = df[['date_block_num','shop_id','item_id',col]] \n",
    "    for i in lags: \n",
    "        shifted = tmp.copy() \n",
    "        shifted.columns = ['date_block_num','shop_id','item_id', col+'_lag_'+str(i)] \n",
    "        shifted['date_block_num'] += i \n",
    "        df = pd.merge(df, shifted, on=['date_block_num','shop_id','item_id'], how='left') \n",
    "    return df"
   ]
  },
  {
   "cell_type": "code",
   "execution_count": null,
   "metadata": {},
   "outputs": [],
   "source": [
    "ts = time.time() \n",
    "# 1,2,3,6,12 달 전의 item_cnt_month 값을, 현재 해당 월의 feature 로 둡니다. \n",
    "matrix = lag_feature(matrix, [1,2,3,6,12], 'item_cnt_month') \n",
    "time.time() - ts\n",
    "\n",
    "출처: https://dailyheumsi.tistory.com/112?category=846709 [하나씩 점을 찍어 나가며]"
   ]
  },
  {
   "cell_type": "code",
   "execution_count": null,
   "metadata": {},
   "outputs": [],
   "source": [
    "ts = time.time() \n",
    "group = matrix.groupby(['date_block_num']).agg({'item_cnt_month': ['mean']}) \n",
    "group.columns = [ 'date_avg_item_cnt' ] \n",
    "group.reset_index(inplace=True)"
   ]
  },
  {
   "cell_type": "code",
   "execution_count": null,
   "metadata": {},
   "outputs": [],
   "source": [
    "matrix = pd.merge(matrix, group, on=['date_block_num'], how='left') \n",
    "matrix['date_avg_item_cnt'] = matrix['date_avg_item_cnt'].astype(np.float16) \n",
    "matrix = lag_feature(matrix, [1], 'date_avg_item_cnt') \n",
    "matrix.drop(['date_avg_item_cnt'], axis=1, inplace=True) \n",
    "time.time() - ts\n"
   ]
  },
  {
   "cell_type": "code",
   "execution_count": null,
   "metadata": {},
   "outputs": [],
   "source": [
    "ts = time.time() \n",
    "group = matrix.groupby(['date_block_num', 'item_id']).agg({'item_cnt_month': ['mean']}) \n",
    "group.columns = [ 'date_item_avg_item_cnt' ] \n",
    "group.reset_index(inplace=True)"
   ]
  },
  {
   "cell_type": "code",
   "execution_count": null,
   "metadata": {},
   "outputs": [],
   "source": [
    "matrix = pd.merge(matrix, group, on=['date_block_num','item_id'], how='left') \n",
    "matrix['date_item_avg_item_cnt'] = matrix['date_item_avg_item_cnt'].astype(np.float16) \n",
    "matrix = lag_feature(matrix, [1,2,3,6,12], 'date_item_avg_item_cnt') \n",
    "matrix.drop(['date_item_avg_item_cnt'], axis=1, inplace=True) \n",
    "time.time() - ts"
   ]
  },
  {
   "cell_type": "code",
   "execution_count": null,
   "metadata": {},
   "outputs": [],
   "source": [
    "# 해당 월에, 각각의 상점 단위로, 팔린 상품 갯수의 평균과 레그. (월, 상점) 단위 \n",
    "ts = time.time() \n",
    "group = matrix.groupby(['date_block_num', 'shop_id']).agg({'item_cnt_month': ['mean']}) \n",
    "group.columns = [ 'date_shop_avg_item_cnt' ] \n",
    "group.reset_index(inplace=True) \n",
    "matrix = pd.merge(matrix, group, on=['date_block_num','shop_id'], how='left') \n",
    "matrix['date_shop_avg_item_cnt'] = matrix['date_shop_avg_item_cnt'].astype(np.float16) \n",
    "matrix = lag_feature(matrix, [1,2,3,6,12], 'date_shop_avg_item_cnt')\n",
    "matrix.drop(['date_shop_avg_item_cnt'], axis=1, inplace=True) \n",
    "time.time() - ts\n"
   ]
  },
  {
   "cell_type": "code",
   "execution_count": null,
   "metadata": {},
   "outputs": [],
   "source": [
    "ts = time.time() \n",
    "group = matrix.groupby(['date_block_num', 'item_category_id']).agg({'item_cnt_month': ['mean']}) \n",
    "group.columns = [ 'date_cat_avg_item_cnt' ] \n",
    "group.reset_index(inplace=True) \n",
    "matrix = pd.merge(matrix, group, on=['date_block_num','item_category_id'], how='left') \n",
    "matrix['date_cat_avg_item_cnt'] = matrix['date_cat_avg_item_cnt'].astype(np.float16)\n",
    "matrix = lag_feature(matrix, [1], 'date_cat_avg_item_cnt') \n",
    "matrix.drop(['date_cat_avg_item_cnt'], axis=1, inplace=True) \n",
    "time.time() - ts"
   ]
  },
  {
   "cell_type": "code",
   "execution_count": null,
   "metadata": {},
   "outputs": [],
   "source": [
    "ts = time.time() \n",
    "group = matrix.groupby(['date_block_num', 'shop_id', 'item_category_id']).agg({'item_cnt_month': ['mean']}) \n",
    "group.columns = ['date_shop_cat_avg_item_cnt'] \n",
    "group.reset_index(inplace=True) \n",
    "matrix = pd.merge(matrix, group, on=['date_block_num', 'shop_id', 'item_category_id'], how='left') \n",
    "matrix['date_shop_cat_avg_item_cnt'] = matrix['date_shop_cat_avg_item_cnt'].astype(np.float16) \n",
    "matrix = lag_feature(matrix, [1], 'date_shop_cat_avg_item_cnt') \n",
    "matrix.drop(['date_shop_cat_avg_item_cnt'], axis=1, inplace=True) \n",
    "time.time() - ts\n"
   ]
  },
  {
   "cell_type": "code",
   "execution_count": null,
   "metadata": {},
   "outputs": [],
   "source": [
    "# 해당 월에, 각각의 아이템 타입1 단위로, 팔린 상품 갯수의 평균과 레그. (월, 상점, 타입1) 단위 \n",
    "ts = time.time() \n",
    "group = matrix.groupby(['date_block_num', 'shop_id', 'type_code']).agg({'item_cnt_month': ['mean']}) \n",
    "group.columns = ['date_shop_type_avg_item_cnt'] \n",
    "group.reset_index(inplace=True) \n",
    "matrix = pd.merge(matrix, group, on=['date_block_num', 'shop_id', 'type_code'], how='left') \n",
    "matrix['date_shop_type_avg_item_cnt'] = matrix['date_shop_type_avg_item_cnt'].astype(np.float16) \n",
    "matrix = lag_feature(matrix, [1], 'date_shop_type_avg_item_cnt') \n",
    "matrix.drop(['date_shop_type_avg_item_cnt'], axis=1, inplace=True) \n",
    "time.time() - ts\n"
   ]
  },
  {
   "cell_type": "code",
   "execution_count": null,
   "metadata": {},
   "outputs": [],
   "source": [
    "ts = time.time() \n",
    "group = matrix.groupby(['date_block_num', 'shop_id', 'subtype_code']).agg({'item_cnt_month': ['mean']}) \n",
    "group.columns = ['date_shop_subtype_avg_item_cnt'] \n",
    "group.reset_index(inplace=True) \n",
    "matrix = pd.merge(matrix, group, on=['date_block_num', 'shop_id', 'subtype_code'], how='left') \n",
    "matrix['date_shop_subtype_avg_item_cnt'] = matrix['date_shop_subtype_avg_item_cnt'].astype(np.float16) \n",
    "matrix = lag_feature(matrix, [1], 'date_shop_subtype_avg_item_cnt') \n",
    "matrix.drop(['date_shop_subtype_avg_item_cnt'], axis=1, inplace=True) \n",
    "time.time() - ts"
   ]
  },
  {
   "cell_type": "code",
   "execution_count": null,
   "metadata": {},
   "outputs": [],
   "source": [
    "ts = time.time() \n",
    "group = matrix.groupby(['date_block_num', 'city_code']).agg({'item_cnt_month': ['mean']}) \n",
    "group.columns = [ 'date_city_avg_item_cnt' ] \n",
    "group.reset_index(inplace=True) \n",
    "matrix = pd.merge(matrix, group, on=['date_block_num', 'city_code'], how='left') \n",
    "matrix['date_city_avg_item_cnt'] = matrix['date_city_avg_item_cnt'].astype(np.float16) \n",
    "matrix = lag_feature(matrix, [1], 'date_city_avg_item_cnt') \n",
    "matrix.drop(['date_city_avg_item_cnt'], axis=1, inplace=True) \n",
    "time.time() - ts\n"
   ]
  },
  {
   "cell_type": "code",
   "execution_count": null,
   "metadata": {},
   "outputs": [],
   "source": [
    "ts = time.time() \n",
    "group = matrix.groupby(['date_block_num', 'type_code']).agg({'item_cnt_month': ['mean']}) \n",
    "group.columns = [ 'date_type_avg_item_cnt' ]\n",
    "group.reset_index(inplace=True) \n",
    "matrix = pd.merge(matrix, group, on=['date_block_num', 'type_code'], how='left') \n",
    "matrix['date_type_avg_item_cnt'] = matrix['date_type_avg_item_cnt'].astype(np.float16) \n",
    "matrix = lag_feature(matrix, [1], 'date_type_avg_item_cnt') \n",
    "matrix.drop(['date_type_avg_item_cnt'], axis=1, inplace=True) \n",
    "time.time() - ts"
   ]
  },
  {
   "cell_type": "code",
   "execution_count": null,
   "metadata": {},
   "outputs": [],
   "source": [
    "ts = time.time() \n",
    "group = matrix.groupby(['date_block_num', 'subtype_code']).agg({'item_cnt_month': ['mean']}) \n",
    "group.columns = [ 'date_subtype_avg_item_cnt' ] \n",
    "group.reset_index(inplace=True) \n",
    "matrix = pd.merge(matrix, group, on=['date_block_num', 'subtype_code'], how='left') \n",
    "matrix['date_subtype_avg_item_cnt'] = matrix['date_subtype_avg_item_cnt'].astype(np.float16) \n",
    "matrix = lag_feature(matrix, [1], 'date_subtype_avg_item_cnt') \n",
    "matrix.drop(['date_subtype_avg_item_cnt'], axis=1, inplace=True) \n",
    "time.time() - ts"
   ]
  },
  {
   "cell_type": "code",
   "execution_count": null,
   "metadata": {},
   "outputs": [],
   "source": [
    "ts = time.time() \n",
    "# 전 기간동안의 각각 상품의 평균 가격. (상품) 단위. \n",
    "group = train.groupby(['item_id']).agg({'item_price': ['mean']}) \n",
    "group.columns = ['item_avg_item_price'] \n",
    "group.reset_index(inplace=True) \n",
    "matrix = pd.merge(matrix, group, on=['item_id'], how='left') \n",
    "matrix['item_avg_item_price'] = matrix['item_avg_item_price'].astype(np.float16)\n",
    "# 월별 상품 평균 가격. (월, 상품) 단위. \n",
    "group = train.groupby(['date_block_num','item_id']).agg({'item_price': ['mean']}) \n",
    "group.columns = ['date_item_avg_item_price'] \n",
    "group.reset_index(inplace=True) \n",
    "matrix = pd.merge(matrix, group, on=['date_block_num','item_id'], how='left') \n",
    "matrix['date_item_avg_item_price'] = matrix['date_item_avg_item_price'].astype(np.float16) \n",
    "# 월별, 각 1~6개월 전의 평균 가격 (월, 상품) 단위. \n",
    "lags = [1,2,3,4,5,6] \n",
    "matrix = lag_feature(matrix, lags, 'date_item_avg_item_price') \n",
    "# 월별, 각 1~6개월 전의 평균 가격과 전 기간 평균 가격과의 차이. (월, 상품) 단위. \n",
    "# 전 구간 가격 평균하고 1~6달 가격을 비교함으로써, 지난 1~6달간의 가격 트랜드를 알 수 있음. \n",
    "for i in lags: \n",
    "    matrix['delta_price_lag_'+str(i)] = \\ (matrix['date_item_avg_item_price_lag_'+str(i)] - matrix['item_avg_item_price']) / matrix['item_avg_item_price'] \n",
    "    # 현재 달 기준, 지난 1~6달 중, 최근의 트랜드를 찾음. \n",
    "    # 가장 최근 1달 전이 좋지만, 없을 경우 최대 6달 전까지 찾는 것. \n",
    "def select_trend(row): \n",
    "    for i in lags: \n",
    "        if row['delta_price_lag_'+str(i)]: \n",
    "            return row['delta_price_lag_'+str(i)] \n",
    "        return 0 \n",
    "matrix['delta_price_lag'] = matrix.apply(select_trend, axis=1) \n",
    "matrix['delta_price_lag'] = matrix['delta_price_lag'].astype(np.float16) \n",
    "matrix['delta_price_lag'].fillna(0, inplace=True) \n",
    "# feature drop 하기 # 가장 최근 price trend 를 찾았으니, 가격과 관련된 이전 lags 들은 필요 없음. \n",
    "fetures_to_drop = ['item_avg_item_price', 'date_item_avg_item_price'] \n",
    "for i in lags: \n",
    "    fetures_to_drop += ['date_item_avg_item_price_lag_'+str(i)] \n",
    "    fetures_to_drop += ['delta_price_lag_'+str(i)] \n",
    "matrix.drop(fetures_to_drop, axis=1, inplace=True) \n",
    "time.time() - ts\n",
    "story.com/112?category=846709 [하나씩 점을 찍어 나가며]"
   ]
  },
  {
   "cell_type": "code",
   "execution_count": null,
   "metadata": {},
   "outputs": [],
   "source": [
    "train['revenue'] = train['item_price'] * train['item_cnt_day']"
   ]
  },
  {
   "cell_type": "code",
   "execution_count": null,
   "metadata": {},
   "outputs": [],
   "source": [
    "ts = time.time() \n",
    "# 월별 각각의 상점 총 매출. (월, 상점) 단위. \n",
    "group = train.groupby(['date_block_num','shop_id']).agg({'revenue': ['sum']}) \n",
    "group.columns = ['date_shop_revenue'] \n",
    "group.reset_index(inplace=True) \n",
    "matrix = pd.merge(matrix, group, on=['date_block_num','shop_id'], how='left') \n",
    "matrix['date_shop_revenue'] = matrix['date_shop_revenue'].astype(np.float32)\n",
    "# 전 기간동안, 각각의 상점 매출 평균. (상점) 단위. \n",
    "group = group.groupby(['shop_id']).agg({'date_shop_revenue': ['mean']}) \n",
    "group.columns = ['shop_avg_revenue'] \n",
    "group.reset_index(inplace=True)\n",
    "matrix = pd.merge(matrix, group, on=['shop_id'], how='left') \n",
    "matrix['shop_avg_revenue'] = matrix['shop_avg_revenue'].astype(np.float32)\n",
    "# 각각 상점의 월평균 매출 - 전기간 평균매출 의 차이. (월, 상점) 단위.\n",
    "matrix['delta_revenue'] = (matrix['date_shop_revenue'] - matrix['shop_avg_revenue']) / matrix['shop_avg_revenue'] \n",
    "matrix['delta_revenue'] = matrix['delta_revenue'].astype(np.float16) \n",
    "# 가장 최근 한 달전의 총 매출만 사용. \n",
    "matrix = lag_feature(matrix, [1], 'delta_revenue') \n",
    "# 최근 총매출 트랜드를 얻었으니, 필요없는 Feature들 다시 삭제. \n",
    "matrix.drop(['date_shop_revenue','shop_avg_revenue','delta_revenue'], axis=1, inplace=True) \n",
    "time.time() - ts"
   ]
  },
  {
   "cell_type": "code",
   "execution_count": null,
   "metadata": {},
   "outputs": [],
   "source": [
    "matrix['month'] = matrix['date_block_num'] % 12 \n",
    "days = pd.Series([31,28,31,30,31,30,31,31,30,31,30,31]) \n",
    "matrix['days'] = matrix['month'].map(days).astype(np.int8)"
   ]
  },
  {
   "cell_type": "code",
   "execution_count": null,
   "metadata": {},
   "outputs": [],
   "source": [
    "ts = time.time() \n",
    "cache = {} \n",
    "matrix['item_shop_last_sale'] = -1 \n",
    "matrix['item_shop_last_sale'] = matrix['item_shop_last_sale'].astype(np.int8) \n",
    "# (상점, 상품)단위로, 해당 상품이 해당 월 기준, 몇 달전에 마지막으로 팔렸는지, item_shop_last_sale 에 저장. \n",
    "# 예를 들어 1달 전에 팔렸으면 1임. \n",
    "for idx, row in matrix.iterrows(): \n",
    "    key = str(row.item_id)+' '+str(row.shop_id) \n",
    "    if key not in cache: \n",
    "        if row.item_cnt_month != 0: \n",
    "            cache[key] = row.date_block_num \n",
    "    else: \n",
    "        last_date_block_num = cache[key] \n",
    "        matrix.at[idx, 'item_shop_last_sale'] = row.date_block_num - last_date_block_num \n",
    "        cache[key] = row.date_block_num \n",
    "time.time() - ts"
   ]
  },
  {
   "cell_type": "code",
   "execution_count": null,
   "metadata": {},
   "outputs": [],
   "source": [
    "ts = time.time() \n",
    "cache = {} \n",
    "matrix['item_last_sale'] = -1 \n",
    "matrix['item_last_sale'] = matrix['item_last_sale'].astype(np.int8)\n",
    "# (상품) 단위로, 해당 상품이 해당 월 기준, 몇 달전에 마지막으로 팔렸는지, item_last_sale 에 저장. \n",
    "for idx, row in matrix.iterrows(): \n",
    "    key = row.item_id \n",
    "    if key not in cache: \n",
    "        if row.item_cnt_month != 0: \n",
    "            cache[key] = row.date_block_num \n",
    "        else: \n",
    "            last_date_block_num = cache[key] \n",
    "            if row.date_block_num > last_date_block_num: \n",
    "                matrix.at[idx, 'item_last_sale'] = row.date_block_num - last_date_block_num \n",
    "                cache[key] = row.date_block_num \n",
    "time.time() - ts\n",
    "\n",
    "출처: https://dailyheumsi.tistory.com/112?category=846709 [하나씩 점을 찍어 나가며]"
   ]
  },
  {
   "cell_type": "code",
   "execution_count": null,
   "metadata": {},
   "outputs": [],
   "source": [
    "ts = time.time() \n",
    "matrix['item_shop_first_sale'] = matrix['date_block_num'] - matrix.groupby(['item_id','shop_id'])['date_block_num'].transform('min') \n",
    "matrix['item_first_sale'] = matrix['date_block_num'] - matrix.groupby('item_id')['date_block_num'].transform('min') \n",
    "ime.time() - ts\n"
   ]
  },
  {
   "cell_type": "code",
   "execution_count": null,
   "metadata": {},
   "outputs": [],
   "source": [
    "ts = time.time() \n",
    "matrix = matrix[matrix.date_block_num > 11] \n",
    "time.time() - ts"
   ]
  },
  {
   "cell_type": "code",
   "execution_count": null,
   "metadata": {},
   "outputs": [],
   "source": [
    "ts = time.time() \n",
    "def fill_na(df): \n",
    "    for col in df.columns: \n",
    "        if ('_lag_' in col) & (df[col].isnull().any()): \n",
    "            if ('item_cnt' in col): \n",
    "                df[col].fillna(0, inplace=True) \n",
    "    return df \n",
    "matrix = fill_na(matrix) \n",
    "time.time() - ts"
   ]
  },
  {
   "cell_type": "code",
   "execution_count": null,
   "metadata": {},
   "outputs": [],
   "source": [
    "matrix.to_pickle('data.pkl') \n",
    "del matrix \n",
    "del cache \n",
    "del group \n",
    "del items \n",
    "del shops \n",
    "del cats \n",
    "del train \n",
    "gc.collect();"
   ]
  },
  {
   "cell_type": "code",
   "execution_count": null,
   "metadata": {},
   "outputs": [],
   "source": [
    "data = data[[ 'date_block_num', 'shop_id', 'item_id', 'item_cnt_month', 'city_code', 'item_category_id', 'type_code', 'subtype_code', 'item_cnt_month_lag_1', 'item_cnt_month_lag_2', 'item_cnt_month_lag_3', 'item_cnt_month_lag_6', 'item_cnt_month_lag_12', 'date_avg_item_cnt_lag_1', 'date_item_avg_item_cnt_lag_1', 'date_item_avg_item_cnt_lag_2', 'date_item_avg_item_cnt_lag_3', 'date_item_avg_item_cnt_lag_6', 'date_item_avg_item_cnt_lag_12', 'date_shop_avg_item_cnt_lag_1', 'date_shop_avg_item_cnt_lag_2', 'date_shop_avg_item_cnt_lag_3', 'date_shop_avg_item_cnt_lag_6', 'date_shop_avg_item_cnt_lag_12', 'date_cat_avg_item_cnt_lag_1', 'date_shop_cat_avg_item_cnt_lag_1', \n",
    "             #'date_shop_type_avg_item_cnt_lag_1', \n",
    "             #'date_shop_subtype_avg_item_cnt_lag_1', \n",
    "             'date_city_avg_item_cnt_lag_1', 'date_item_city_avg_item_cnt_lag_1',\n",
    "             #'date_type_avg_item_cnt_lag_1',\n",
    "             #'date_subtype_avg_item_cnt_lag_1', \n",
    "             'delta_price_lag', 'month', 'days', 'item_shop_last_sale', 'item_last_sale', \n",
    "             'item_shop_first_sale', 'item_first_sale', ]]"
   ]
  },
  {
   "cell_type": "code",
   "execution_count": null,
   "metadata": {},
   "outputs": [],
   "source": [
    "X_train = data[data.date_block_num < 33].drop(['item_cnt_month'], axis=1)\n",
    "Y_train = data[data.date_block_num < 33]['item_cnt_month'] \n",
    "X_valid = data[data.date_block_num == 33].drop(['item_cnt_month'], axis=1) \n",
    "Y_valid = data[data.date_block_num == 33]['item_cnt_month'] \n",
    "X_test = data[data.date_block_num == 34].drop(['item_cnt_month'], axis=1)\n",
    "\n",
    "\n",
    "del data\n",
    "gc.collect();\n",
    "\n",
    "ts = time.time() \n",
    "model = XGBRegressor( \n",
    "    max_depth=8, \n",
    "    n_estimators=1000,\n",
    "    min_child_weight=300, \n",
    "    colsample_bytree=0.8, \n",
    "    subsample=0.8, \n",
    "    eta=0.3, \n",
    "    seed=42) \n",
    "model.fit( \n",
    "    X_train, \n",
    "    Y_train,\n",
    "    eval_metric=\"rmse\", \n",
    "    eval_set=[(X_train, Y_train), (X_valid, Y_valid)], \n",
    "    verbose=True,\n",
    "    early_stopping_rounds = 10) \n",
    "time.time() - ts"
   ]
  },
  {
   "cell_type": "code",
   "execution_count": null,
   "metadata": {},
   "outputs": [],
   "source": [
    "Y_pred = model.predict(X_valid).clip(0, 20) \n",
    "Y_test = model.predict(X_test).clip(0, 20) \n",
    "submission = pd.DataFrame({ \n",
    "    \"ID\": test.index, \n",
    "    \"item_cnt_month\": Y_test \n",
    "}) \n",
    "submission.to_csv('xgb_submission.csv', index=False) \n",
    "# save predictions for an ensemble \n",
    "pickle.dump(Y_pred, open('xgb_train.pickle', 'wb')) \n",
    "pickle.dump(Y_test, open('xgb_test.pickle', 'wb'))"
   ]
  },
  {
   "cell_type": "code",
   "execution_count": null,
   "metadata": {},
   "outputs": [],
   "source": [
    "plot_features(model, (10,14))"
   ]
  }
 ],
 "metadata": {
  "kernelspec": {
   "display_name": "aiffel",
   "language": "python",
   "name": "aiffel"
  },
  "language_info": {
   "codemirror_mode": {
    "name": "ipython",
    "version": 3
   },
   "file_extension": ".py",
   "mimetype": "text/x-python",
   "name": "python",
   "nbconvert_exporter": "python",
   "pygments_lexer": "ipython3",
   "version": "3.7.6"
  }
 },
 "nbformat": 4,
 "nbformat_minor": 4
}
