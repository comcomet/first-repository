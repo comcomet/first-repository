{
 "cells": [
  {
   "cell_type": "code",
   "execution_count": 1,
   "metadata": {},
   "outputs": [
    {
     "name": "stdout",
     "output_type": "stream",
     "text": [
      "데이터 크기: 187088\n",
      "Examples:\n",
      " ['The Cat in the Hat', 'By Dr. Seuss', 'The sun did not shine.', 'It was too wet to play.', 'So we sat in the house', 'All that cold cold wet day.', 'I sat there with Sally.', 'We sat there we two.', 'And I said How I wish']\n"
     ]
    }
   ],
   "source": [
    "import glob\n",
    "import os\n",
    "\n",
    "txt_file_path = os.getenv('HOME')+'/aiffel//lyricist/data/lyrics/*'\n",
    "\n",
    "txt_list = glob.glob(txt_file_path)\n",
    "\n",
    "raw_corpus = []\n",
    "\n",
    "# 여러개의 txt 파일을 모두 읽어서 raw_corpus 에 담습니다.\n",
    "for txt_file in txt_list:\n",
    "    with open(txt_file, \"r\") as f:\n",
    "        raw = f.read().splitlines()\n",
    "        raw_corpus.extend(raw)\n",
    "\n",
    "print(\"데이터 크기:\", len(raw_corpus))\n",
    "print(\"Examples:\\n\", raw_corpus[:9])"
   ]
  },
  {
   "cell_type": "code",
   "execution_count": 2,
   "metadata": {},
   "outputs": [
    {
     "name": "stdout",
     "output_type": "stream",
     "text": [
      "The Cat in the\n",
      "By Dr. Seuss\n",
      "The sun did no\n",
      "It was too wet\n",
      "So we sat in t\n",
      "All that cold \n",
      "I sat there wi\n",
      "We sat there w\n",
      "And I said How\n",
      "We had somethi\n"
     ]
    }
   ],
   "source": [
    "for idx, sentence in enumerate(raw_corpus):\n",
    "    if len(sentence) == 0: continue   # 길이가 0인 문장은 건너뜁니다.\n",
    "    if sentence[-1] == \":\": continue  # 문장의 끝이 : 인 문장은 건너뜁니다.\n",
    "    if len(sentence) > 14 :\n",
    "        sentence = sentence[0:14]\n",
    "\n",
    "    if idx > 9: break   # 일단 문장 10개만 확인해 볼 겁니다.\n",
    "        \n",
    "    print(sentence)"
   ]
  },
  {
   "cell_type": "code",
   "execution_count": 3,
   "metadata": {},
   "outputs": [
    {
     "name": "stdout",
     "output_type": "stream",
     "text": [
      "<start> this is sample sentence . <end>\n"
     ]
    }
   ],
   "source": [
    "import re    \n",
    "\n",
    "def preprocess_sentence(sentence):\n",
    "    sentence = sentence.lower().strip()       # 소문자로 바꾸고 양쪽 공백을 삭제\n",
    "  \n",
    "    # 아래 3단계를 거쳐 sentence는 스페이스 1개를 delimeter로 하는 소문자 단어 시퀀스로 바뀝니다.\n",
    "    sentence = re.sub(r\"([?.!,¿])\", r\" \\1 \", sentence)        # 패턴의 특수문자를 만나면 특수문자 양쪽에 공백을 추가\n",
    "    sentence = re.sub(r'[\" \"]+', \" \", sentence)                  # 공백 패턴을 만나면 스페이스 1개로 치환\n",
    "    sentence = re.sub(r\"[^a-zA-Z?.!,¿]+\", \" \", sentence)  # a-zA-Z?.!,¿ 패턴을 제외한 모든 문자(공백문자까지도)를 스페이스 1개로 치환\n",
    "\n",
    "    sentence = sentence.strip()\n",
    "\n",
    "    sentence = '<start> ' + sentence + ' <end>'      # 이전 스텝에서 본 것처럼 문장 앞뒤로 <start>와 <end>를 단어처럼 붙여 줍니다\n",
    "    \n",
    "    return sentence\n",
    "\n",
    "print(preprocess_sentence(\"This @_is ;;;sample        sentence.\"))   # 이 문장이 어떻게 필터링되는지 확인해 보세요."
   ]
  },
  {
   "cell_type": "code",
   "execution_count": 4,
   "metadata": {},
   "outputs": [
    {
     "data": {
      "text/plain": [
       "['<start> the cat in the <end>',\n",
       " '<start> by dr . seuss <end>',\n",
       " '<start> the sun did no <end>',\n",
       " '<start> it was too wet <end>',\n",
       " '<start> so we sat in t <end>',\n",
       " '<start> all that cold <end>',\n",
       " '<start> i sat there wi <end>',\n",
       " '<start> we sat there w <end>',\n",
       " '<start> and i said how <end>',\n",
       " '<start> we had somethi <end>']"
      ]
     },
     "execution_count": 4,
     "metadata": {},
     "output_type": "execute_result"
    }
   ],
   "source": [
    "corpus = []\n",
    "\n",
    "for sentence in raw_corpus:\n",
    "    if len(sentence) == 0: continue\n",
    "    if sentence[-1] == \":\": continue\n",
    "    if len(sentence) > 14 :\n",
    "        sentence = sentence[0:14]\n",
    "        \n",
    "    corpus.append(preprocess_sentence(sentence))\n",
    "        \n",
    "corpus[:10]"
   ]
  },
  {
   "cell_type": "code",
   "execution_count": 5,
   "metadata": {},
   "outputs": [
    {
     "name": "stdout",
     "output_type": "stream",
     "text": [
      "[[  2   7 718 ...   0   0   0]\n",
      " [  2 145 420 ...   0   0   0]\n",
      " [  2   7 364 ...   0   0   0]\n",
      " ...\n",
      " [  2 764  34 ...   0   0   0]\n",
      " [  2 764  34 ...   0   0   0]\n",
      " [  2 764  34 ...   0   0   0]] <keras_preprocessing.text.Tokenizer object at 0x7f0889b882d0>\n"
     ]
    }
   ],
   "source": [
    "import tensorflow as tf  \n",
    "\n",
    "def tokenize(corpus):\n",
    "    # 텐서플로우에서 제공하는 Tokenizer 패키지를 생성\n",
    "    tokenizer = tf.keras.preprocessing.text.Tokenizer(\n",
    "        num_words=12000,  # 전체 단어의 개수 \n",
    "        filters=' ',    # 별도로 전처리 로직을 추가할 수 있습니다. 이번에는 사용하지 않겠습니다.\n",
    "        oov_token=\"<unk>\"  # out-of-vocabulary, 사전에 없었던 단어는 어떤 토큰으로 대체할지\n",
    "    )\n",
    "    tokenizer.fit_on_texts(corpus)   # 우리가 구축한 corpus로부터 Tokenizer가 사전을 자동구축하게 됩니다.\n",
    "\n",
    "    # 이후 tokenizer를 활용하여 모델에 입력할 데이터셋을 구축하게 됩니다.\n",
    "    tensor = tokenizer.texts_to_sequences(corpus)   # tokenizer는 구축한 사전으로부터 corpus를 해석해 Tensor로 변환합니다.\n",
    "\n",
    "    # 입력 데이터의 시퀀스 길이를 일정하게 맞추기 위한 padding  메소드를 제공합니다.\n",
    "    # maxlen의 디폴트값은 None입니다. 이 경우 corpus의 가장 긴 문장을 기준으로 시퀀스 길이가 맞춰집니다.\n",
    "    tensor = tf.keras.preprocessing.sequence.pad_sequences(tensor, padding='post')  \n",
    "\n",
    "    print(tensor,tokenizer)\n",
    "    return tensor, tokenizer\n",
    "\n",
    "tensor, tokenizer = tokenize(corpus)"
   ]
  },
  {
   "cell_type": "code",
   "execution_count": 6,
   "metadata": {},
   "outputs": [
    {
     "name": "stdout",
     "output_type": "stream",
     "text": [
      "[[    2     7   718    18     7     3     0     0     0     0]\n",
      " [    2   145   420    50 10975     3     0     0     0     0]\n",
      " [    2     7   364   165    35     3     0     0     0     0]]\n"
     ]
    }
   ],
   "source": [
    "print(tensor[:3, :10])"
   ]
  },
  {
   "cell_type": "code",
   "execution_count": 7,
   "metadata": {},
   "outputs": [
    {
     "name": "stdout",
     "output_type": "stream",
     "text": [
      "1 : <unk>\n",
      "2 : <start>\n",
      "3 : <end>\n",
      "4 : i\n",
      "5 : you\n",
      "6 : ,\n",
      "7 : the\n",
      "8 : and\n",
      "9 : t\n",
      "10 : a\n"
     ]
    }
   ],
   "source": [
    "for idx in tokenizer.index_word:\n",
    "    print(idx, \":\", tokenizer.index_word[idx])\n",
    "\n",
    "    if idx >= 10: break"
   ]
  },
  {
   "cell_type": "code",
   "execution_count": 8,
   "metadata": {},
   "outputs": [
    {
     "name": "stdout",
     "output_type": "stream",
     "text": [
      "[  2   7 718  18   7   3   0   0   0   0   0   0   0   0   0]\n",
      "[  7 718  18   7   3   0   0   0   0   0   0   0   0   0   0]\n"
     ]
    }
   ],
   "source": [
    "src_input = tensor[:, :-1]  # tensor에서 마지막 토큰을 잘라내서 소스 문장을 생성합니다. 마지막 토큰은 <END>가 아니라 <pad>일 가능성이 높습니다.\n",
    "tgt_input = tensor[:, 1:]    # tensor에서 <START>를 잘라내서 타겟 문장을 생성합니다.\n",
    "\n",
    "print(src_input[0])\n",
    "print(tgt_input[0])"
   ]
  },
  {
   "cell_type": "markdown",
   "metadata": {},
   "source": [
    "sklearn 모듈의 train_test_split()\n",
    "! 총 데이터의 20%를 평가 데이터셋\n",
    "src_input(source sentence), tgt_input(target sentence)"
   ]
  },
  {
   "cell_type": "code",
   "execution_count": 9,
   "metadata": {},
   "outputs": [],
   "source": [
    "from sklearn.model_selection import train_test_split\n",
    "enc_train, enc_val, dec_train, dec_val = train_test_split(src_input , tgt_input, test_size = 0.2, random_state = 20)\n"
   ]
  },
  {
   "cell_type": "code",
   "execution_count": 10,
   "metadata": {},
   "outputs": [
    {
     "name": "stdout",
     "output_type": "stream",
     "text": [
      "Source Train: (140599, 15)\n",
      "Target Train: (140599, 15)\n"
     ]
    }
   ],
   "source": [
    "print(\"Source Train:\", enc_train.shape)\n",
    "print(\"Target Train:\", dec_train.shape)"
   ]
  },
  {
   "cell_type": "markdown",
   "metadata": {},
   "source": [
    "out:\n",
    "\n",
    "Source Train: (124960, 14)\n",
    "Target Train: (124960, 14)"
   ]
  },
  {
   "cell_type": "code",
   "execution_count": 11,
   "metadata": {},
   "outputs": [
    {
     "data": {
      "text/plain": [
       "<BatchDataset shapes: ((256, 15), (256, 15)), types: (tf.int32, tf.int32)>"
      ]
     },
     "execution_count": 11,
     "metadata": {},
     "output_type": "execute_result"
    }
   ],
   "source": [
    "BUFFER_SIZE = len(src_input)\n",
    "BATCH_SIZE = 256\n",
    "steps_per_epoch = len(src_input) // BATCH_SIZE\n",
    "\n",
    "VOCAB_SIZE = tokenizer.num_words + 1    # tokenizer가 구축한 단어사전 내 7000개와, 여기 포함되지 않은 0:<pad>를 포함하여 7001개\n",
    "\n",
    "dataset = tf.data.Dataset.from_tensor_slices((enc_train, dec_train)).shuffle(BUFFER_SIZE)\n",
    "dataset = dataset.batch(BATCH_SIZE, drop_remainder=True)\n",
    "dataset"
   ]
  },
  {
   "cell_type": "code",
   "execution_count": 12,
   "metadata": {},
   "outputs": [],
   "source": [
    "class TextGenerator(tf.keras.Model):\n",
    "    def __init__(self, vocab_size, embedding_size, hidden_size):\n",
    "        super(TextGenerator, self).__init__()\n",
    "        \n",
    "        self.embedding = tf.keras.layers.Embedding(vocab_size, embedding_size)\n",
    "        self.rnn_1 = tf.keras.layers.LSTM(hidden_size, return_sequences=True)\n",
    "        self.rnn_2 = tf.keras.layers.LSTM(hidden_size, return_sequences=True)\n",
    "        self.linear = tf.keras.layers.Dense(vocab_size)\n",
    "        \n",
    "    def call(self, x):\n",
    "        out = self.embedding(x)\n",
    "        out = self.rnn_1(out)\n",
    "        out = self.rnn_2(out)\n",
    "        out = self.linear(out)\n",
    "        \n",
    "        return out\n",
    "    \n",
    "embedding_size = 256\n",
    "hidden_size = 1024\n",
    "model = TextGenerator(tokenizer.num_words + 1, embedding_size , hidden_size)"
   ]
  },
  {
   "cell_type": "code",
   "execution_count": 13,
   "metadata": {},
   "outputs": [
    {
     "data": {
      "text/plain": [
       "<tf.Tensor: shape=(256, 15, 12001), dtype=float32, numpy=\n",
       "array([[[ 3.35209450e-04, -2.34102408e-05,  3.25528563e-05, ...,\n",
       "          4.81849129e-05, -2.23445648e-04,  7.66201847e-05],\n",
       "        [ 3.16830177e-04, -1.46754013e-04,  3.04348039e-04, ...,\n",
       "          1.59945062e-04, -4.19319724e-04,  2.92771409e-04],\n",
       "        [ 9.85333390e-05, -2.11925435e-04,  5.00932103e-04, ...,\n",
       "          2.12476982e-04, -3.40106519e-04,  3.92943359e-04],\n",
       "        ...,\n",
       "        [-1.10624277e-03,  1.23901805e-03, -2.07391768e-05, ...,\n",
       "          6.93116162e-04, -6.83723192e-05,  2.35018000e-04],\n",
       "        [-1.29887776e-03,  1.25069474e-03, -1.86946607e-04, ...,\n",
       "          6.34386961e-04,  2.74654667e-05,  1.05214778e-04],\n",
       "        [-1.45313598e-03,  1.22838665e-03, -3.43796273e-04, ...,\n",
       "          5.68541465e-04,  1.35798764e-04, -2.87712246e-05]],\n",
       "\n",
       "       [[ 3.35209450e-04, -2.34102408e-05,  3.25528563e-05, ...,\n",
       "          4.81849129e-05, -2.23445648e-04,  7.66201847e-05],\n",
       "        [ 7.57521717e-04, -2.19537425e-04,  1.10130386e-04, ...,\n",
       "          1.65850754e-04, -5.78011968e-04, -2.87807401e-04],\n",
       "        [ 1.06405723e-03, -3.14241071e-04,  3.27626069e-04, ...,\n",
       "          1.46261009e-04, -7.05254730e-04, -5.46081828e-05],\n",
       "        ...,\n",
       "        [-8.37530999e-04,  1.38857344e-03, -3.99756973e-04, ...,\n",
       "          5.93847129e-04,  3.55757511e-05, -1.23767008e-04],\n",
       "        [-1.04663987e-03,  1.38024427e-03, -5.16813365e-04, ...,\n",
       "          5.17211272e-04,  1.39549476e-04, -2.19839494e-04],\n",
       "        [-1.21702475e-03,  1.33733428e-03, -6.25118089e-04, ...,\n",
       "          4.45581361e-04,  2.43075570e-04, -3.17646918e-04]],\n",
       "\n",
       "       [[ 3.35209450e-04, -2.34102408e-05,  3.25528563e-05, ...,\n",
       "          4.81849129e-05, -2.23445648e-04,  7.66201847e-05],\n",
       "        [ 6.89275563e-04, -3.55788099e-04, -1.81361669e-04, ...,\n",
       "         -9.34529526e-05, -2.61893962e-04,  8.97636201e-05],\n",
       "        [ 8.25575204e-04, -5.71058248e-04, -2.67732161e-04, ...,\n",
       "         -2.82963210e-05, -1.53447138e-04,  1.03520091e-04],\n",
       "        ...,\n",
       "        [-1.05304585e-03,  1.24357757e-03, -5.40303008e-04, ...,\n",
       "          4.30483808e-04, -6.52076642e-06,  1.19359647e-04],\n",
       "        [-1.29386666e-03,  1.25629571e-03, -6.52260962e-04, ...,\n",
       "          4.05421451e-04,  3.82984472e-05,  4.81587849e-05],\n",
       "        [-1.48149091e-03,  1.23239355e-03, -7.58075621e-04, ...,\n",
       "          3.73481016e-04,  1.05321669e-04, -3.76262324e-05]],\n",
       "\n",
       "       ...,\n",
       "\n",
       "       [[ 3.35209450e-04, -2.34102408e-05,  3.25528563e-05, ...,\n",
       "          4.81849129e-05, -2.23445648e-04,  7.66201847e-05],\n",
       "        [ 8.11136619e-04, -9.32980911e-05, -2.33082304e-04, ...,\n",
       "          1.40990363e-04, -2.77155748e-04,  1.69798041e-05],\n",
       "        [ 9.51804686e-04, -2.20285103e-04, -1.28440908e-04, ...,\n",
       "          1.87473459e-04, -1.57480521e-04, -1.03911741e-04],\n",
       "        ...,\n",
       "        [-9.77577991e-04,  1.24244241e-03, -9.42181970e-04, ...,\n",
       "          8.45709234e-04,  8.31570505e-05, -1.93013606e-04],\n",
       "        [-1.21561426e-03,  1.24445779e-03, -9.95226204e-04, ...,\n",
       "          7.52155145e-04,  1.27963343e-04, -2.83694273e-04],\n",
       "        [-1.40527880e-03,  1.21398037e-03, -1.04830239e-03, ...,\n",
       "          6.55065756e-04,  1.89728104e-04, -3.73478630e-04]],\n",
       "\n",
       "       [[ 3.35209450e-04, -2.34102408e-05,  3.25528563e-05, ...,\n",
       "          4.81849129e-05, -2.23445648e-04,  7.66201847e-05],\n",
       "        [ 7.69435370e-04, -1.06007094e-04, -3.96143769e-05, ...,\n",
       "          8.06899479e-05, -1.54863432e-04,  1.49385029e-04],\n",
       "        [ 9.86035680e-04, -9.28501104e-05,  5.25895666e-05, ...,\n",
       "          7.92743376e-05, -2.85281596e-04,  1.81555297e-04],\n",
       "        ...,\n",
       "        [-1.39025587e-03,  1.13013189e-03, -5.25680371e-04, ...,\n",
       "          8.92930955e-04, -1.75783774e-04,  1.43879282e-04],\n",
       "        [-1.60124456e-03,  1.16031570e-03, -6.60398917e-04, ...,\n",
       "          8.23876529e-04, -1.04745915e-04,  3.38283498e-05],\n",
       "        [-1.75763434e-03,  1.15147675e-03, -7.77000037e-04, ...,\n",
       "          7.50263105e-04, -1.28867323e-05, -7.70522674e-05]],\n",
       "\n",
       "       [[ 3.35209450e-04, -2.34102408e-05,  3.25528563e-05, ...,\n",
       "          4.81849129e-05, -2.23445648e-04,  7.66201847e-05],\n",
       "        [ 6.73650880e-04, -1.12121932e-04,  2.08288504e-04, ...,\n",
       "          2.90546632e-05, -6.31445146e-05, -2.71301758e-07],\n",
       "        [ 7.23979203e-04, -3.36851488e-04,  1.67203398e-04, ...,\n",
       "         -9.92583682e-06,  1.45457554e-04, -3.17714730e-04],\n",
       "        ...,\n",
       "        [-1.34605134e-03,  1.17713492e-03, -8.06480355e-04, ...,\n",
       "          8.46939627e-04,  4.22790588e-04, -3.25414643e-04],\n",
       "        [-1.55820907e-03,  1.21350924e-03, -8.71849479e-04, ...,\n",
       "          7.58064678e-04,  4.52333858e-04, -3.53468437e-04],\n",
       "        [-1.72109134e-03,  1.20767800e-03, -9.33037023e-04, ...,\n",
       "          6.66298904e-04,  4.97141853e-04, -3.99548881e-04]]],\n",
       "      dtype=float32)>"
      ]
     },
     "execution_count": 13,
     "metadata": {},
     "output_type": "execute_result"
    }
   ],
   "source": [
    "for src_sample, tgt_sample in dataset.take(1): break\n",
    "model(src_sample)"
   ]
  },
  {
   "cell_type": "code",
   "execution_count": 14,
   "metadata": {},
   "outputs": [
    {
     "name": "stdout",
     "output_type": "stream",
     "text": [
      "Model: \"text_generator\"\n",
      "_________________________________________________________________\n",
      "Layer (type)                 Output Shape              Param #   \n",
      "=================================================================\n",
      "embedding (Embedding)        multiple                  3072256   \n",
      "_________________________________________________________________\n",
      "lstm (LSTM)                  multiple                  5246976   \n",
      "_________________________________________________________________\n",
      "lstm_1 (LSTM)                multiple                  8392704   \n",
      "_________________________________________________________________\n",
      "dense (Dense)                multiple                  12301025  \n",
      "=================================================================\n",
      "Total params: 29,012,961\n",
      "Trainable params: 29,012,961\n",
      "Non-trainable params: 0\n",
      "_________________________________________________________________\n"
     ]
    }
   ],
   "source": [
    "model.summary()"
   ]
  },
  {
   "cell_type": "code",
   "execution_count": 15,
   "metadata": {},
   "outputs": [
    {
     "name": "stdout",
     "output_type": "stream",
     "text": [
      "Epoch 1/10\n",
      "549/549 [==============================] - 71s 130ms/step - loss: 1.5721\n",
      "Epoch 2/10\n",
      "549/549 [==============================] - 69s 125ms/step - loss: 1.2800\n",
      "Epoch 3/10\n",
      "549/549 [==============================] - 69s 126ms/step - loss: 1.2016\n",
      "Epoch 4/10\n",
      "549/549 [==============================] - 77s 140ms/step - loss: 1.1562\n",
      "Epoch 5/10\n",
      "549/549 [==============================] - 73s 133ms/step - loss: 1.1216\n",
      "Epoch 6/10\n",
      "549/549 [==============================] - 69s 125ms/step - loss: 1.0930\n",
      "Epoch 7/10\n",
      "549/549 [==============================] - 76s 139ms/step - loss: 1.0678\n",
      "Epoch 8/10\n",
      "549/549 [==============================] - 69s 125ms/step - loss: 1.0462\n",
      "Epoch 9/10\n",
      "549/549 [==============================] - 69s 126ms/step - loss: 1.0266\n",
      "Epoch 10/10\n",
      "549/549 [==============================] - 69s 125ms/step - loss: 1.0085\n"
     ]
    },
    {
     "data": {
      "text/plain": [
       "<tensorflow.python.keras.callbacks.History at 0x7f0813cd21d0>"
      ]
     },
     "execution_count": 15,
     "metadata": {},
     "output_type": "execute_result"
    }
   ],
   "source": [
    "optimizer = tf.keras.optimizers.Adam()\n",
    "loss = tf.keras.losses.SparseCategoricalCrossentropy(\n",
    "    from_logits=True,\n",
    "    reduction='none'\n",
    ")\n",
    "\n",
    "model.compile(loss=loss, optimizer=optimizer)\n",
    "#model.fit(dataset, epochs=10)\n",
    "model.fit(dataset, epochs=10)"
   ]
  },
  {
   "cell_type": "code",
   "execution_count": 16,
   "metadata": {},
   "outputs": [],
   "source": [
    "def generate_text(model, tokenizer, init_sentence=\"<start>\", max_len=20):\n",
    "    # 테스트를 위해서 입력받은 init_sentence도 일단 텐서로 변환합니다.\n",
    "    test_input = tokenizer.texts_to_sequences([init_sentence])\n",
    "    test_tensor = tf.convert_to_tensor(test_input, dtype=tf.int64)\n",
    "    end_token = tokenizer.word_index[\"<end>\"]\n",
    "\n",
    "    # 텍스트를 실제로 생성할때는 루프를 돌면서 단어 하나씩 생성해야 합니다. \n",
    "    while True:\n",
    "        predict = model(test_tensor)  # 입력받은 문장의 텐서를 입력합니다. \n",
    "        predict_word = tf.argmax(tf.nn.softmax(predict, axis=-1), axis=-1)[:, -1]   # 우리 모델이 예측한 마지막 단어가 바로 새롭게 생성한 단어가 됩니다. \n",
    "\n",
    "        # 우리 모델이 새롭게 예측한 단어를 입력 문장의 뒤에 붙여 줍니다. \n",
    "        test_tensor = tf.concat([test_tensor, \n",
    "\t\t\t\t\t\t\t\t\t\t\t\t\t\t\t\t tf.expand_dims(predict_word, axis=0)], axis=-1)\n",
    "\n",
    "        # 우리 모델이 <END>를 예측했거나, max_len에 도달하지 않았다면  while 루프를 또 돌면서 다음 단어를 예측해야 합니다.\n",
    "        if predict_word.numpy()[0] == end_token: break\n",
    "        if test_tensor.shape[1] >= max_len: break\n",
    "\n",
    "    generated = \"\"\n",
    "    # 생성된 tensor 안에 있는 word index를 tokenizer.index_word 사전을 통해 실제 단어로 하나씩 변환합니다. \n",
    "    for word_index in test_tensor[0].numpy():\n",
    "        generated += tokenizer.index_word[word_index] + \" \"\n",
    "\n",
    "    return generated   # 이것이 최종적으로 모델이 생성한 자연어 문장입니다."
   ]
  },
  {
   "cell_type": "code",
   "execution_count": 17,
   "metadata": {},
   "outputs": [
    {
     "ename": "NameError",
     "evalue": "name 'lyricist' is not defined",
     "output_type": "error",
     "traceback": [
      "\u001b[0;31m---------------------------------------------------------------------------\u001b[0m",
      "\u001b[0;31mNameError\u001b[0m                                 Traceback (most recent call last)",
      "\u001b[0;32m<ipython-input-17-416a9c38ffea>\u001b[0m in \u001b[0;36m<module>\u001b[0;34m\u001b[0m\n\u001b[0;32m----> 1\u001b[0;31m \u001b[0mgenerate_text\u001b[0m\u001b[0;34m(\u001b[0m\u001b[0mlyricist\u001b[0m\u001b[0;34m,\u001b[0m \u001b[0mtokenizer\u001b[0m\u001b[0;34m,\u001b[0m \u001b[0minit_sentence\u001b[0m\u001b[0;34m=\u001b[0m\u001b[0;34m\"<start> i love\"\u001b[0m\u001b[0;34m,\u001b[0m \u001b[0mmax_len\u001b[0m\u001b[0;34m=\u001b[0m\u001b[0;36m20\u001b[0m\u001b[0;34m)\u001b[0m\u001b[0;34m\u001b[0m\u001b[0;34m\u001b[0m\u001b[0m\n\u001b[0m",
      "\u001b[0;31mNameError\u001b[0m: name 'lyricist' is not defined"
     ]
    }
   ],
   "source": [
    "generate_text(lyricist, tokenizer, init_sentence=\"<start> i love\", max_len=20)"
   ]
  }
 ],
 "metadata": {
  "kernelspec": {
   "display_name": "aiffel",
   "language": "python",
   "name": "aiffel"
  },
  "language_info": {
   "codemirror_mode": {
    "name": "ipython",
    "version": 3
   },
   "file_extension": ".py",
   "mimetype": "text/x-python",
   "name": "python",
   "nbconvert_exporter": "python",
   "pygments_lexer": "ipython3",
   "version": "3.7.6"
  }
 },
 "nbformat": 4,
 "nbformat_minor": 4
}
