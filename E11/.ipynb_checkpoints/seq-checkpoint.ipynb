{
 "cells": [
  {
   "cell_type": "code",
   "execution_count": 1,
   "metadata": {},
   "outputs": [
    {
     "name": "stdout",
     "output_type": "stream",
     "text": [
      "['First Citizen:', 'Before we proceed any further, hear me speak.', '', 'All:', 'Speak, speak.', '', 'First Citizen:', 'You are all resolved rather to die than to famish?', '']\n"
     ]
    }
   ],
   "source": [
    "import re                  # 정규표현식을 위한 Regex 지원 모듈 (문장 데이터를 정돈하기 위해) \n",
    "import numpy as np         # 변환된 문장 데이터(행렬)을 편하게 처리하기 위해\n",
    "import tensorflow as tf    # 대망의 텐서플로우!\n",
    "import os\n",
    "\n",
    "# 파일을 읽기모드로 열어 봅니다.\n",
    "file_path = os.getenv('HOME') + '/aiffel/lyricist/data/shakespeare.txt'\n",
    "with open(file_path, \"r\") as f:\n",
    "    raw_corpus = f.read().splitlines()   # 텍스트를 라인 단위로 끊어서 list 형태로 읽어옵니다.\n",
    "\n",
    "print(raw_corpus[:9])    # 앞에서부터 10라인만 화면에 출력해 볼까요?"
   ]
  },
  {
   "cell_type": "code",
   "execution_count": 2,
   "metadata": {},
   "outputs": [
    {
     "name": "stdout",
     "output_type": "stream",
     "text": [
      "Before we proceed any further, hear me speak.\n",
      "Speak, speak.\n",
      "You are all resolved rather to die than to famish?\n"
     ]
    }
   ],
   "source": [
    "for idx, sentence in enumerate(raw_corpus):\n",
    "    if len(sentence) == 0: continue   # 길이가 0인 문장은 건너뜁니다.\n",
    "    if sentence[-1] == \":\": continue  # 문장의 끝이 : 인 문장은 건너뜁니다.\n",
    "\n",
    "    if idx > 9: break   # 일단 문장 10개만 확인해 볼 겁니다.\n",
    "        \n",
    "    print(sentence)"
   ]
  },
  {
   "cell_type": "code",
   "execution_count": 3,
   "metadata": {},
   "outputs": [
    {
     "name": "stdout",
     "output_type": "stream",
     "text": [
      "<start> this is sample sentence . <end>\n"
     ]
    }
   ],
   "source": [
    "def preprocess_sentence(sentence):\n",
    "    sentence = sentence.lower().strip()       # 소문자로 바꾸고 양쪽 공백을 삭제\n",
    "  \n",
    "    # 아래 3단계를 거쳐 sentence는 스페이스 1개를 delimeter로 하는 소문자 단어 시퀀스로 바뀝니다.\n",
    "    sentence = re.sub(r\"([?.!,¿])\", r\" \\1 \", sentence)        # 패턴의 특수문자를 만나면 특수문자 양쪽에 공백을 추가\n",
    "    sentence = re.sub(r'[\" \"]+', \" \", sentence)                  # 공백 패턴을 만나면 스페이스 1개로 치환\n",
    "    sentence = re.sub(r\"[^a-zA-Z?.!,¿]+\", \" \", sentence)  # a-zA-Z?.!,¿ 패턴을 제외한 모든 문자(공백문자까지도)를 스페이스 1개로 치환\n",
    "\n",
    "    sentence = sentence.strip()\n",
    "\n",
    "    sentence = '<start> ' + sentence + ' <end>'      # 이전 스텝에서 본 것처럼 문장 앞뒤로 <start>와 <end>를 단어처럼 붙여 줍니다\n",
    "    \n",
    "    return sentence\n",
    "\n",
    "print(preprocess_sentence(\"This @_is ;;;sample        sentence.\"))   # 이 문장이 어떻게 필터링되는지 확인해 보세요."
   ]
  },
  {
   "cell_type": "code",
   "execution_count": 4,
   "metadata": {},
   "outputs": [
    {
     "data": {
      "text/plain": [
       "['<start> before we proceed any further , hear me speak . <end>',\n",
       " '<start> speak , speak . <end>',\n",
       " '<start> you are all resolved rather to die than to famish ? <end>',\n",
       " '<start> resolved . resolved . <end>',\n",
       " '<start> first , you know caius marcius is chief enemy to the people . <end>',\n",
       " '<start> we know t , we know t . <end>',\n",
       " '<start> let us kill him , and we ll have corn at our own price . <end>',\n",
       " '<start> is t a verdict ? <end>',\n",
       " '<start> no more talking on t let it be done away , away ! <end>',\n",
       " '<start> one word , good citizens . <end>']"
      ]
     },
     "execution_count": 4,
     "metadata": {},
     "output_type": "execute_result"
    }
   ],
   "source": [
    "corpus = []\n",
    "\n",
    "for sentence in raw_corpus:\n",
    "    if len(sentence) == 0: continue\n",
    "    if sentence[-1] == \":\": continue\n",
    "        \n",
    "    corpus.append(preprocess_sentence(sentence))\n",
    "        \n",
    "corpus[:10]"
   ]
  },
  {
   "cell_type": "code",
   "execution_count": 5,
   "metadata": {},
   "outputs": [
    {
     "name": "stdout",
     "output_type": "stream",
     "text": [
      "[[   2  143   40 ...    0    0    0]\n",
      " [   2  110    4 ...    0    0    0]\n",
      " [   2   11   50 ...    0    0    0]\n",
      " ...\n",
      " [   2  149 4553 ...    0    0    0]\n",
      " [   2   34   71 ...    0    0    0]\n",
      " [   2  945   34 ...    0    0    0]] <keras_preprocessing.text.Tokenizer object at 0x7f02fb0c9d10>\n"
     ]
    }
   ],
   "source": [
    "def tokenize(corpus):\n",
    "    # 텐서플로우에서 제공하는 Tokenizer 패키지를 생성\n",
    "    tokenizer = tf.keras.preprocessing.text.Tokenizer(\n",
    "        num_words=7000,  # 전체 단어의 개수 \n",
    "        filters=' ',    # 별도로 전처리 로직을 추가할 수 있습니다. 이번에는 사용하지 않겠습니다.\n",
    "        oov_token=\"<unk>\"  # out-of-vocabulary, 사전에 없었던 단어는 어떤 토큰으로 대체할지\n",
    "    )\n",
    "    tokenizer.fit_on_texts(corpus)   # 우리가 구축한 corpus로부터 Tokenizer가 사전을 자동구축하게 됩니다.\n",
    "\n",
    "    # 이후 tokenizer를 활용하여 모델에 입력할 데이터셋을 구축하게 됩니다.\n",
    "    tensor = tokenizer.texts_to_sequences(corpus)   # tokenizer는 구축한 사전으로부터 corpus를 해석해 Tensor로 변환합니다.\n",
    "\n",
    "    # 입력 데이터의 시퀀스 길이를 일정하게 맞추기 위한 padding  메소드를 제공합니다.\n",
    "    # maxlen의 디폴트값은 None입니다. 이 경우 corpus의 가장 긴 문장을 기준으로 시퀀스 길이가 맞춰집니다.\n",
    "    tensor = tf.keras.preprocessing.sequence.pad_sequences(tensor, padding='post')  \n",
    "\n",
    "    print(tensor,tokenizer)\n",
    "    return tensor, tokenizer\n",
    "\n",
    "tensor, tokenizer = tokenize(corpus)"
   ]
  },
  {
   "cell_type": "code",
   "execution_count": 6,
   "metadata": {},
   "outputs": [
    {
     "name": "stdout",
     "output_type": "stream",
     "text": [
      "[[   2  143   40  933  140  591    4  124   24  110]\n",
      " [   2  110    4  110    5    3    0    0    0    0]\n",
      " [   2   11   50   43 1201  316    9  201   74    9]]\n"
     ]
    }
   ],
   "source": [
    "print(tensor[:3, :10])"
   ]
  },
  {
   "cell_type": "code",
   "execution_count": 7,
   "metadata": {},
   "outputs": [
    {
     "name": "stdout",
     "output_type": "stream",
     "text": [
      "1 : <unk>\n",
      "2 : <start>\n",
      "3 : <end>\n",
      "4 : ,\n",
      "5 : .\n",
      "6 : the\n",
      "7 : and\n",
      "8 : i\n",
      "9 : to\n",
      "10 : of\n"
     ]
    }
   ],
   "source": [
    "for idx in tokenizer.index_word:\n",
    "    print(idx, \":\", tokenizer.index_word[idx])\n",
    "\n",
    "    if idx >= 10: break"
   ]
  },
  {
   "cell_type": "code",
   "execution_count": 8,
   "metadata": {},
   "outputs": [
    {
     "name": "stdout",
     "output_type": "stream",
     "text": [
      "[  2 143  40 933 140 591   4 124  24 110   5   3   0   0   0   0   0   0\n",
      "   0   0]\n",
      "[143  40 933 140 591   4 124  24 110   5   3   0   0   0   0   0   0   0\n",
      "   0   0]\n"
     ]
    }
   ],
   "source": [
    "src_input = tensor[:, :-1]  # tensor에서 마지막 토큰을 잘라내서 소스 문장을 생성합니다. 마지막 토큰은 <END>가 아니라 <pad>일 가능성이 높습니다.\n",
    "tgt_input = tensor[:, 1:]    # tensor에서 <START>를 잘라내서 타겟 문장을 생성합니다.\n",
    "\n",
    "print(src_input[0])\n",
    "print(tgt_input[0])"
   ]
  },
  {
   "cell_type": "code",
   "execution_count": 9,
   "metadata": {},
   "outputs": [
    {
     "data": {
      "text/plain": [
       "<BatchDataset shapes: ((256, 20), (256, 20)), types: (tf.int32, tf.int32)>"
      ]
     },
     "execution_count": 9,
     "metadata": {},
     "output_type": "execute_result"
    }
   ],
   "source": [
    "BUFFER_SIZE = len(src_input)\n",
    "BATCH_SIZE = 256\n",
    "steps_per_epoch = len(src_input) // BATCH_SIZE\n",
    "\n",
    "VOCAB_SIZE = tokenizer.num_words + 1    # tokenizer가 구축한 단어사전 내 7000개와, 여기 포함되지 않은 0:<pad>를 포함하여 7001개\n",
    "\n",
    "dataset = tf.data.Dataset.from_tensor_slices((src_input, tgt_input)).shuffle(BUFFER_SIZE)\n",
    "dataset = dataset.batch(BATCH_SIZE, drop_remainder=True)\n",
    "dataset"
   ]
  },
  {
   "cell_type": "code",
   "execution_count": 10,
   "metadata": {},
   "outputs": [],
   "source": [
    "class TextGenerator(tf.keras.Model):\n",
    "    def __init__(self, vocab_size, embedding_size, hidden_size):\n",
    "        super(TextGenerator, self).__init__()\n",
    "        \n",
    "        self.embedding = tf.keras.layers.Embedding(vocab_size, embedding_size)\n",
    "        self.rnn_1 = tf.keras.layers.LSTM(hidden_size, return_sequences=True)\n",
    "        self.rnn_2 = tf.keras.layers.LSTM(hidden_size, return_sequences=True)\n",
    "        self.linear = tf.keras.layers.Dense(vocab_size)\n",
    "        \n",
    "    def call(self, x):\n",
    "        out = self.embedding(x)\n",
    "        out = self.rnn_1(out)\n",
    "        out = self.rnn_2(out)\n",
    "        out = self.linear(out)\n",
    "        \n",
    "        return out\n",
    "    \n",
    "embedding_size = 256\n",
    "hidden_size = 1024\n",
    "model = TextGenerator(tokenizer.num_words + 1, embedding_size , hidden_size)"
   ]
  },
  {
   "cell_type": "code",
   "execution_count": 11,
   "metadata": {},
   "outputs": [
    {
     "data": {
      "text/plain": [
       "<tf.Tensor: shape=(256, 20, 7001), dtype=float32, numpy=\n",
       "array([[[ 1.43475423e-04,  2.25287076e-04, -1.76404938e-04, ...,\n",
       "          9.55755677e-05, -5.89584488e-05,  6.60331571e-04],\n",
       "        [-1.19738696e-04,  4.82356903e-04, -4.76518384e-04, ...,\n",
       "          2.11389532e-04, -5.56247396e-05,  1.03465654e-03],\n",
       "        [-3.02842207e-04,  3.96805292e-04, -8.28168006e-04, ...,\n",
       "          1.75341251e-04,  4.29434367e-05,  1.22423260e-03],\n",
       "        ...,\n",
       "        [ 1.00370415e-03,  3.27593763e-04, -1.65707199e-03, ...,\n",
       "         -7.91207945e-04, -2.74353399e-04,  7.92943392e-05],\n",
       "        [ 1.11486507e-03, -1.08929045e-04, -2.12427555e-03, ...,\n",
       "         -8.29849043e-04, -3.36218276e-04,  7.53522763e-05],\n",
       "        [ 1.19381887e-03, -5.49235265e-04, -2.61443830e-03, ...,\n",
       "         -8.29954050e-04, -4.16423340e-04,  7.71873019e-05]],\n",
       "\n",
       "       [[ 1.43475423e-04,  2.25287076e-04, -1.76404938e-04, ...,\n",
       "          9.55755677e-05, -5.89584488e-05,  6.60331571e-04],\n",
       "        [ 4.16971307e-04,  3.11010866e-04, -3.93943163e-04, ...,\n",
       "          2.16808985e-04, -2.33130704e-04,  1.24926295e-03],\n",
       "        [ 2.23371229e-04,  5.63255278e-04, -3.45743378e-04, ...,\n",
       "          5.66776202e-04, -1.54555353e-04,  1.74724439e-03],\n",
       "        ...,\n",
       "        [ 1.05090113e-03, -1.30796852e-03, -3.49692581e-03, ...,\n",
       "         -6.89456472e-04, -1.35309965e-04, -7.89689133e-04],\n",
       "        [ 1.11526239e-03, -1.56008604e-03, -3.95022240e-03, ...,\n",
       "         -7.19661184e-04, -2.50672048e-04, -7.51657120e-04],\n",
       "        [ 1.16848142e-03, -1.80510397e-03, -4.36939718e-03, ...,\n",
       "         -7.29680993e-04, -3.77288059e-04, -7.02167396e-04]],\n",
       "\n",
       "       [[ 1.43475423e-04,  2.25287076e-04, -1.76404938e-04, ...,\n",
       "          9.55755677e-05, -5.89584488e-05,  6.60331571e-04],\n",
       "        [ 6.83043036e-04,  6.41572755e-04, -8.80014413e-05, ...,\n",
       "          2.81409011e-04, -2.10477647e-05,  1.08107890e-03],\n",
       "        [ 7.00937991e-04,  5.54118888e-04,  8.28455231e-05, ...,\n",
       "          7.30301836e-04, -1.01346821e-04,  1.12877530e-03],\n",
       "        ...,\n",
       "        [ 6.77281001e-04, -2.17482960e-03, -4.25251713e-03, ...,\n",
       "         -8.04573589e-04,  2.97460315e-06, -3.17928861e-05],\n",
       "        [ 8.01016518e-04, -2.36116583e-03, -4.62216418e-03, ...,\n",
       "         -7.90029415e-04, -2.31403697e-04, -3.84091509e-05],\n",
       "        [ 9.16734338e-04, -2.52434867e-03, -4.96707996e-03, ...,\n",
       "         -7.68021215e-04, -4.46338701e-04, -6.27830232e-05]],\n",
       "\n",
       "       ...,\n",
       "\n",
       "       [[ 1.43475423e-04,  2.25287076e-04, -1.76404938e-04, ...,\n",
       "          9.55755677e-05, -5.89584488e-05,  6.60331571e-04],\n",
       "        [ 1.19355100e-04,  2.84371054e-04, -1.85041077e-04, ...,\n",
       "          8.80338121e-05, -1.31113818e-04,  1.02441222e-03],\n",
       "        [-1.21345271e-04,  4.16263283e-05, -2.10422513e-04, ...,\n",
       "          1.86751131e-04, -2.36071050e-04,  1.55988650e-03],\n",
       "        ...,\n",
       "        [ 1.39637454e-03, -2.13814271e-03, -4.82094660e-03, ...,\n",
       "         -7.88111764e-04, -1.06147013e-03,  7.51916785e-04],\n",
       "        [ 1.41489122e-03, -2.33150437e-03, -5.18685393e-03, ...,\n",
       "         -7.60183844e-04, -1.10101118e-03,  6.17743412e-04],\n",
       "        [ 1.43770734e-03, -2.49202899e-03, -5.51626738e-03, ...,\n",
       "         -7.31297478e-04, -1.13635894e-03,  4.83458949e-04]],\n",
       "\n",
       "       [[ 1.43475423e-04,  2.25287076e-04, -1.76404938e-04, ...,\n",
       "          9.55755677e-05, -5.89584488e-05,  6.60331571e-04],\n",
       "        [-6.72211463e-05,  3.81821708e-04,  2.60453107e-05, ...,\n",
       "          1.09392131e-04, -9.85732186e-05,  7.81114562e-04],\n",
       "        [-1.70386629e-04,  3.07468814e-04, -1.79453244e-04, ...,\n",
       "          6.72906826e-05,  3.90234200e-05,  9.14237520e-04],\n",
       "        ...,\n",
       "        [ 6.26645924e-04, -7.84639211e-04, -1.91780529e-03, ...,\n",
       "         -1.64850464e-03,  3.60869104e-04,  7.64137832e-04],\n",
       "        [ 7.68097700e-04, -1.16055785e-03, -2.51900754e-03, ...,\n",
       "         -1.55807927e-03,  1.71140040e-04,  6.85323786e-04],\n",
       "        [ 8.79649248e-04, -1.51978515e-03, -3.09166196e-03, ...,\n",
       "         -1.43931760e-03, -2.81478624e-05,  6.08969480e-04]],\n",
       "\n",
       "       [[ 1.43475423e-04,  2.25287076e-04, -1.76404938e-04, ...,\n",
       "          9.55755677e-05, -5.89584488e-05,  6.60331571e-04],\n",
       "        [ 1.79226787e-04,  6.11874450e-04, -2.80647742e-04, ...,\n",
       "          1.77503520e-04, -2.90352473e-04,  1.08969072e-03],\n",
       "        [ 5.29159501e-04,  8.16837361e-04, -5.64114307e-04, ...,\n",
       "          3.59310856e-04, -3.15169746e-04,  1.55466632e-03],\n",
       "        ...,\n",
       "        [ 9.31720540e-04, -1.26112602e-03, -2.66070967e-03, ...,\n",
       "         -8.03545117e-04, -7.41500058e-04, -2.20378879e-05],\n",
       "        [ 9.93312220e-04, -1.52708299e-03, -3.24699632e-03, ...,\n",
       "         -7.92724721e-04, -7.38758303e-04, -2.19053236e-05],\n",
       "        [ 1.04709517e-03, -1.78489345e-03, -3.78718786e-03, ...,\n",
       "         -7.68597762e-04, -7.67946476e-04, -1.89025723e-05]]],\n",
       "      dtype=float32)>"
      ]
     },
     "execution_count": 11,
     "metadata": {},
     "output_type": "execute_result"
    }
   ],
   "source": [
    "for src_sample, tgt_sample in dataset.take(1): break\n",
    "model(src_sample)"
   ]
  },
  {
   "cell_type": "code",
   "execution_count": 12,
   "metadata": {},
   "outputs": [
    {
     "name": "stdout",
     "output_type": "stream",
     "text": [
      "Model: \"text_generator\"\n",
      "_________________________________________________________________\n",
      "Layer (type)                 Output Shape              Param #   \n",
      "=================================================================\n",
      "embedding (Embedding)        multiple                  1792256   \n",
      "_________________________________________________________________\n",
      "lstm (LSTM)                  multiple                  5246976   \n",
      "_________________________________________________________________\n",
      "lstm_1 (LSTM)                multiple                  8392704   \n",
      "_________________________________________________________________\n",
      "dense (Dense)                multiple                  7176025   \n",
      "=================================================================\n",
      "Total params: 22,607,961\n",
      "Trainable params: 22,607,961\n",
      "Non-trainable params: 0\n",
      "_________________________________________________________________\n"
     ]
    }
   ],
   "source": [
    "model.summary()"
   ]
  },
  {
   "cell_type": "code",
   "execution_count": 13,
   "metadata": {},
   "outputs": [
    {
     "name": "stdout",
     "output_type": "stream",
     "text": [
      "Epoch 1/30\n",
      "93/93 [==============================] - 12s 133ms/step - loss: 3.4618\n",
      "Epoch 2/30\n",
      "93/93 [==============================] - 13s 135ms/step - loss: 2.7954\n",
      "Epoch 3/30\n",
      "93/93 [==============================] - 13s 137ms/step - loss: 2.6894\n",
      "Epoch 4/30\n",
      "93/93 [==============================] - 12s 134ms/step - loss: 2.6015\n",
      "Epoch 5/30\n",
      "93/93 [==============================] - 12s 131ms/step - loss: 2.5396\n",
      "Epoch 6/30\n",
      "93/93 [==============================] - 12s 131ms/step - loss: 2.4886\n",
      "Epoch 7/30\n",
      "93/93 [==============================] - 12s 131ms/step - loss: 2.4307\n",
      "Epoch 8/30\n",
      "93/93 [==============================] - 12s 134ms/step - loss: 2.3719\n",
      "Epoch 9/30\n",
      "93/93 [==============================] - 13s 135ms/step - loss: 2.3158\n",
      "Epoch 10/30\n",
      "93/93 [==============================] - 13s 135ms/step - loss: 2.2657\n",
      "Epoch 11/30\n",
      "93/93 [==============================] - 12s 134ms/step - loss: 2.2187\n",
      "Epoch 12/30\n",
      "93/93 [==============================] - 14s 147ms/step - loss: 2.1710\n",
      "Epoch 13/30\n",
      "93/93 [==============================] - 13s 139ms/step - loss: 2.1244\n",
      "Epoch 14/30\n",
      "93/93 [==============================] - 14s 153ms/step - loss: 2.0770\n",
      "Epoch 15/30\n",
      "93/93 [==============================] - 13s 141ms/step - loss: 2.0293\n",
      "Epoch 16/30\n",
      "93/93 [==============================] - 13s 138ms/step - loss: 1.9832\n",
      "Epoch 17/30\n",
      "93/93 [==============================] - 13s 138ms/step - loss: 1.9371\n",
      "Epoch 18/30\n",
      "93/93 [==============================] - 13s 143ms/step - loss: 1.8882\n",
      "Epoch 19/30\n",
      "93/93 [==============================] - 14s 148ms/step - loss: 1.8405\n",
      "Epoch 20/30\n",
      "93/93 [==============================] - 13s 144ms/step - loss: 1.7907\n",
      "Epoch 21/30\n",
      "93/93 [==============================] - 13s 140ms/step - loss: 1.7427\n",
      "Epoch 22/30\n",
      "93/93 [==============================] - 13s 143ms/step - loss: 1.6927\n",
      "Epoch 23/30\n",
      "93/93 [==============================] - 13s 142ms/step - loss: 1.6447\n",
      "Epoch 24/30\n",
      "93/93 [==============================] - 13s 138ms/step - loss: 1.5963\n",
      "Epoch 25/30\n",
      "93/93 [==============================] - 13s 141ms/step - loss: 1.5453\n",
      "Epoch 26/30\n",
      "93/93 [==============================] - 13s 139ms/step - loss: 1.4949\n",
      "Epoch 27/30\n",
      "93/93 [==============================] - 13s 139ms/step - loss: 1.4453\n",
      "Epoch 28/30\n",
      "93/93 [==============================] - 13s 134ms/step - loss: 1.3936\n",
      "Epoch 29/30\n",
      "93/93 [==============================] - 12s 133ms/step - loss: 1.3411\n",
      "Epoch 30/30\n",
      "93/93 [==============================] - 12s 131ms/step - loss: 1.2896\n"
     ]
    },
    {
     "data": {
      "text/plain": [
       "<tensorflow.python.keras.callbacks.History at 0x7f02fbe53790>"
      ]
     },
     "execution_count": 13,
     "metadata": {},
     "output_type": "execute_result"
    }
   ],
   "source": [
    "optimizer = tf.keras.optimizers.Adam()\n",
    "loss = tf.keras.losses.SparseCategoricalCrossentropy(\n",
    "    from_logits=True,\n",
    "    reduction='none'\n",
    ")\n",
    "\n",
    "model.compile(loss=loss, optimizer=optimizer)\n",
    "model.fit(dataset, epochs=30)"
   ]
  },
  {
   "cell_type": "code",
   "execution_count": 15,
   "metadata": {},
   "outputs": [],
   "source": [
    "def generate_text(model, tokenizer, init_sentence=\"<start>\", max_len=20):\n",
    "    # 테스트를 위해서 입력받은 init_sentence도 일단 텐서로 변환합니다.\n",
    "    test_input = tokenizer.texts_to_sequences([init_sentence])\n",
    "    test_tensor = tf.convert_to_tensor(test_input, dtype=tf.int64)\n",
    "    end_token = tokenizer.word_index[\"<end>\"]\n",
    "\n",
    "    # 텍스트를 실제로 생성할때는 루프를 돌면서 단어 하나씩 생성해야 합니다. \n",
    "    while True:\n",
    "        predict = model(test_tensor)  # 입력받은 문장의 텐서를 입력합니다. \n",
    "        predict_word = tf.argmax(tf.nn.softmax(predict, axis=-1), axis=-1)[:, -1]   # 우리 모델이 예측한 마지막 단어가 바로 새롭게 생성한 단어가 됩니다. \n",
    "\n",
    "        # 우리 모델이 새롭게 예측한 단어를 입력 문장의 뒤에 붙여 줍니다. \n",
    "        test_tensor = tf.concat([test_tensor, \n",
    "\t\t\t\t\t\t\t\t\t\t\t\t\t\t\t\t tf.expand_dims(predict_word, axis=0)], axis=-1)\n",
    "\n",
    "        # 우리 모델이 <END>를 예측했거나, max_len에 도달하지 않았다면  while 루프를 또 돌면서 다음 단어를 예측해야 합니다.\n",
    "        if predict_word.numpy()[0] == end_token: break\n",
    "        if test_tensor.shape[1] >= max_len: break\n",
    "\n",
    "    generated = \"\"\n",
    "    # 생성된 tensor 안에 있는 word index를 tokenizer.index_word 사전을 통해 실제 단어로 하나씩 변환합니다. \n",
    "    for word_index in test_tensor[0].numpy():\n",
    "        generated += tokenizer.index_word[word_index] + \" \"\n",
    "\n",
    "    return generated   # 이것이 최종적으로 모델이 생성한 자연어 문장입니다."
   ]
  },
  {
   "cell_type": "code",
   "execution_count": 16,
   "metadata": {},
   "outputs": [
    {
     "data": {
      "text/plain": [
       "'<start> he is not lolling on the prince , whose <unk> <end> '"
      ]
     },
     "execution_count": 16,
     "metadata": {},
     "output_type": "execute_result"
    }
   ],
   "source": [
    "generate_text(model, tokenizer, init_sentence=\"<start> he\")"
   ]
  },
  {
   "cell_type": "code",
   "execution_count": null,
   "metadata": {},
   "outputs": [],
   "source": []
  },
  {
   "cell_type": "code",
   "execution_count": null,
   "metadata": {},
   "outputs": [],
   "source": []
  },
  {
   "cell_type": "code",
   "execution_count": null,
   "metadata": {},
   "outputs": [],
   "source": []
  },
  {
   "cell_type": "code",
   "execution_count": null,
   "metadata": {},
   "outputs": [],
   "source": []
  },
  {
   "cell_type": "code",
   "execution_count": null,
   "metadata": {},
   "outputs": [],
   "source": []
  }
 ],
 "metadata": {
  "kernelspec": {
   "display_name": "aiffel",
   "language": "python",
   "name": "aiffel"
  },
  "language_info": {
   "codemirror_mode": {
    "name": "ipython",
    "version": 3
   },
   "file_extension": ".py",
   "mimetype": "text/x-python",
   "name": "python",
   "nbconvert_exporter": "python",
   "pygments_lexer": "ipython3",
   "version": "3.7.6"
  }
 },
 "nbformat": 4,
 "nbformat_minor": 4
}
