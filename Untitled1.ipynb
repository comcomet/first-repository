{
 "cells": [
  {
   "cell_type": "code",
   "execution_count": null,
   "metadata": {},
   "outputs": [],
   "source": [
    "TC = int(input())\n",
    "\n",
    "for tc in range(1, TC+1):\n",
    "    Data = list(input().split())\n",
    "    N = len(Data)\n",
    "    stack = []\n",
    "    code = 0\n",
    "\n",
    "    for i in range(N):  \n",
    "        \n",
    "        #숫자인 경우, stack에 append\n",
    "        if Data[i].isdigit():\n",
    "            stack.append(Data[i])\n",
    "\n",
    "        else:\n",
    "            try:  # 후위표기 계산\n",
    "                num2, num1 = int(stack.pop()), int(stack.pop())\n",
    "\n",
    "                if Data[i] == \"+\": result = num1 + num2\n",
    "                elif Data[i] == \"-\": result = num1 - num2\n",
    "                elif Data[i] == \"/\": result = num1 // num2\n",
    "                elif Data[i] == \"*\": result = num1 * num2\n",
    "\t\t\t\telif Data[i] == \".\": result = num2\n",
    "                stack.append(str(result))\n",
    "\n",
    "            except: #에러 발생 예외 처리 예) 숫자 + 연산자 + 연산자\n",
    "                code = 1\n",
    "\n",
    "    #예외처리 조건 (X) + Stack의 길이가 1인 경우(계산이 성공적인경우)\n",
    "    if code == 0 and len(stack) == 1:\n",
    "        print(f'#{tc} {stack[0]}')\n",
    "\n",
    "    #예외처리 조건 (O) + stack의 길이가 2이상인 경우 ex) 숫자만 입력된 경우\n",
    "    elif code == 1 or len(stack)>1:\n",
    "        print(f'#{tc} error')"
   ]
  },
  {
   "cell_type": "code",
   "execution_count": null,
   "metadata": {},
   "outputs": [],
   "source": []
  }
 ],
 "metadata": {
  "kernelspec": {
   "display_name": "aiffel",
   "language": "python",
   "name": "aiffel"
  },
  "language_info": {
   "codemirror_mode": {
    "name": "ipython",
    "version": 3
   },
   "file_extension": ".py",
   "mimetype": "text/x-python",
   "name": "python",
   "nbconvert_exporter": "python",
   "pygments_lexer": "ipython3",
   "version": "3.7.6"
  }
 },
 "nbformat": 4,
 "nbformat_minor": 4
}
