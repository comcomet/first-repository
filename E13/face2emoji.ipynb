{
 "cells": [
  {
   "cell_type": "markdown",
   "metadata": {},
   "source": [
    "kernel 이 죽는 바람에 이 상태로 모바일 웹앱 등록, \n",
    "\n",
    "모바일 웹앱의 url 은 \n",
    "\n",
    "https://comcomet.github.io/first-repository/E13/index.html"
   ]
  },
  {
   "cell_type": "code",
   "execution_count": null,
   "metadata": {},
   "outputs": [],
   "source": [
    "import numpy as np\n",
    "import tqdm\n",
    "import os\n",
    "\n",
    "train_x = []\n",
    "train_y = []\n",
    "eval_x = []\n",
    "eval_y = []\n",
    "\n",
    "csv_path = os.getenv('HOME')+'/aiffel/tfjs_mobile/data/fer2013.csv'\n",
    "\n",
    "with open(csv_path) as f:\n",
    "  for line in tqdm.tqdm(f.read().splitlines()[1:]):\n",
    "    emotion, pixels, usage = line.split(',')\n",
    "    \n",
    "    x = np.array(pixels.split(' ')).astype(float).reshape(48, 48, 1) / 255\n",
    "    y = int(emotion)\n",
    "\n",
    "    if usage == 'PrivateTest':\n",
    "      eval_x.append(x)\n",
    "      eval_y.append(y)\n",
    "    else:\n",
    "      train_x.append(x)\n",
    "      train_y.append(y)\n",
    "\n",
    "print('train : {}, eval :{}'.format(len(train_x), len(eval_x)))"
   ]
  },
  {
   "cell_type": "code",
   "execution_count": null,
   "metadata": {},
   "outputs": [],
   "source": [
    "from matplotlib import pyplot as plt\n",
    "\n",
    "LABELS = ['Angry', 'Disgust', 'Fear', 'Happy', 'Sad', 'Surprise', 'Neutral']\n",
    "\n",
    "print(LABELS[train_y[0]])\n",
    "plt.imshow(train_x[0].reshape([48, 48]), cmap='gray')"
   ]
  },
  {
   "cell_type": "code",
   "execution_count": null,
   "metadata": {},
   "outputs": [],
   "source": [
    "import tensorflow as tf\n",
    "\n",
    "# model 선언 \n",
    "# [[YOUR CODE]]\n",
    "\n",
    "# model.compile\n",
    "# [[YOUR CODE]]\n",
    "\n",
    "#model.fit\n",
    "# [[YOUR CODE]]"
   ]
  },
  {
   "cell_type": "code",
   "execution_count": null,
   "metadata": {},
   "outputs": [],
   "source": [
    "import os\n",
    "model_path = os.getenv('HOME')+'/aiffel/tfjs_mobile/model.h5'\n",
    "model.save(model_path)"
   ]
  },
  {
   "cell_type": "code",
   "execution_count": null,
   "metadata": {},
   "outputs": [],
   "source": []
  },
  {
   "cell_type": "code",
   "execution_count": null,
   "metadata": {},
   "outputs": [],
   "source": []
  },
  {
   "cell_type": "code",
   "execution_count": null,
   "metadata": {},
   "outputs": [],
   "source": []
  },
  {
   "cell_type": "code",
   "execution_count": null,
   "metadata": {},
   "outputs": [],
   "source": []
  },
  {
   "cell_type": "code",
   "execution_count": null,
   "metadata": {},
   "outputs": [],
   "source": []
  },
  {
   "cell_type": "code",
   "execution_count": null,
   "metadata": {},
   "outputs": [],
   "source": []
  },
  {
   "cell_type": "code",
   "execution_count": null,
   "metadata": {},
   "outputs": [],
   "source": []
  },
  {
   "cell_type": "code",
   "execution_count": null,
   "metadata": {},
   "outputs": [],
   "source": []
  }
 ],
 "metadata": {
  "kernelspec": {
   "display_name": "aiffel",
   "language": "python",
   "name": "aiffel"
  },
  "language_info": {
   "name": ""
  }
 },
 "nbformat": 4,
 "nbformat_minor": 4
}
