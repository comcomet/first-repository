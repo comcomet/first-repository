{
 "cells": [
  {
   "cell_type": "code",
   "execution_count": 1,
   "metadata": {},
   "outputs": [
    {
     "data": {
      "text/html": [
       "<div>\n",
       "<style scoped>\n",
       "    .dataframe tbody tr th:only-of-type {\n",
       "        vertical-align: middle;\n",
       "    }\n",
       "\n",
       "    .dataframe tbody tr th {\n",
       "        vertical-align: top;\n",
       "    }\n",
       "\n",
       "    .dataframe thead th {\n",
       "        text-align: right;\n",
       "    }\n",
       "</style>\n",
       "<table border=\"1\" class=\"dataframe\">\n",
       "  <thead>\n",
       "    <tr style=\"text-align: right;\">\n",
       "      <th></th>\n",
       "      <th>id</th>\n",
       "      <th>document</th>\n",
       "      <th>label</th>\n",
       "    </tr>\n",
       "  </thead>\n",
       "  <tbody>\n",
       "    <tr>\n",
       "      <th>0</th>\n",
       "      <td>9976970</td>\n",
       "      <td>아 더빙.. 진짜 짜증나네요 목소리</td>\n",
       "      <td>0</td>\n",
       "    </tr>\n",
       "    <tr>\n",
       "      <th>1</th>\n",
       "      <td>3819312</td>\n",
       "      <td>흠...포스터보고 초딩영화줄....오버연기조차 가볍지 않구나</td>\n",
       "      <td>1</td>\n",
       "    </tr>\n",
       "    <tr>\n",
       "      <th>2</th>\n",
       "      <td>10265843</td>\n",
       "      <td>너무재밓었다그래서보는것을추천한다</td>\n",
       "      <td>0</td>\n",
       "    </tr>\n",
       "    <tr>\n",
       "      <th>3</th>\n",
       "      <td>9045019</td>\n",
       "      <td>교도소 이야기구먼 ..솔직히 재미는 없다..평점 조정</td>\n",
       "      <td>0</td>\n",
       "    </tr>\n",
       "    <tr>\n",
       "      <th>4</th>\n",
       "      <td>6483659</td>\n",
       "      <td>사이몬페그의 익살스런 연기가 돋보였던 영화!스파이더맨에서 늙어보이기만 했던 커스틴 ...</td>\n",
       "      <td>1</td>\n",
       "    </tr>\n",
       "  </tbody>\n",
       "</table>\n",
       "</div>"
      ],
      "text/plain": [
       "         id                                           document  label\n",
       "0   9976970                                아 더빙.. 진짜 짜증나네요 목소리      0\n",
       "1   3819312                  흠...포스터보고 초딩영화줄....오버연기조차 가볍지 않구나      1\n",
       "2  10265843                                  너무재밓었다그래서보는것을추천한다      0\n",
       "3   9045019                      교도소 이야기구먼 ..솔직히 재미는 없다..평점 조정      0\n",
       "4   6483659  사이몬페그의 익살스런 연기가 돋보였던 영화!스파이더맨에서 늙어보이기만 했던 커스틴 ...      1"
      ]
     },
     "execution_count": 1,
     "metadata": {},
     "output_type": "execute_result"
    }
   ],
   "source": [
    "import pandas as pd\n",
    "import urllib.request\n",
    "%matplotlib inline\n",
    "import matplotlib.pyplot as plt\n",
    "import re\n",
    "from konlpy.tag import Okt\n",
    "from tensorflow import keras\n",
    "from tensorflow.keras.preprocessing.text import Tokenizer\n",
    "import numpy as np\n",
    "from tensorflow.keras.preprocessing.sequence import pad_sequences\n",
    "from collections import Counter\n",
    "\n",
    "# 데이터를 읽어봅시다. \n",
    "train_data = pd.read_table('~/aiffel/sentiment_classification/ratings_train.txt')\n",
    "test_data = pd.read_table('~/aiffel/sentiment_classification/ratings_test.txt')\n",
    "\n",
    "train_data.head()"
   ]
  },
  {
   "cell_type": "code",
   "execution_count": 3,
   "metadata": {},
   "outputs": [],
   "source": [
    "from konlpy.tag import Mecab\n",
    "tokenizer = Mecab()\n",
    "stopwords = ['의','가','이','은','들','는','좀','잘','걍','과','도','를','으로','자','에','와','한','하다']\n",
    "\n",
    "def load_data(train_data, test_data, num_words=10000):\n",
    "    train_data.drop_duplicates(subset=['document'], inplace=True)\n",
    "    train_data = train_data.dropna(how = 'any') \n",
    "    test_data.drop_duplicates(subset=['document'], inplace=True)\n",
    "    test_data = test_data.dropna(how = 'any')\n",
    "    \n",
    "    X_train = []\n",
    "    for sentence in train_data['document']:\n",
    "        temp_X = tokenizer.morphs(sentence) # 토큰화\n",
    "        temp_X = [word for word in temp_X if not word in stopwords] # 불용어 제거\n",
    "        X_train.append(temp_X)\n",
    "\n",
    "    X_test = []\n",
    "    for sentence in test_data['document']:\n",
    "        temp_X = tokenizer.morphs(sentence) # 토큰화\n",
    "        temp_X = [word for word in temp_X if not word in stopwords] # 불용어 제거\n",
    "        X_test.append(temp_X)\n",
    "\n",
    "    words = np.concatenate(X_train).tolist()\n",
    "    counter = Counter(words)\n",
    "    counter = counter.most_common(10000-4)\n",
    "    vocab = ['<PAD>', '<BOS>', '<UNK>', '<UNUSED>'] + [key for key, _ in counter]\n",
    "    word_to_index = {word:index for index, word in enumerate(vocab)}\n",
    "\n",
    "    def wordlist_to_indexlist(wordlist):\n",
    "        return [word_to_index[word] if word in word_to_index else word_to_index['<UNK>'] for word in wordlist]\n",
    "\n",
    "    X_train = list(map(wordlist_to_indexlist, X_train))\n",
    "    X_test = list(map(wordlist_to_indexlist, X_test))\n",
    "\n",
    "    return X_train, np.array(list(train_data['label'])), X_test, np.array(list(test_data['label'])), word_to_index\n",
    "    \n",
    "X_train, y_train, X_test, y_test, word_to_index = load_data(train_data, test_data)"
   ]
  },
  {
   "cell_type": "code",
   "execution_count": 4,
   "metadata": {},
   "outputs": [],
   "source": [
    "index_to_word = {index:word for word, index in word_to_index.items()}"
   ]
  },
  {
   "cell_type": "code",
   "execution_count": 13,
   "metadata": {},
   "outputs": [],
   "source": [
    "# 문장 1개를 활용할 딕셔너리와 함께 주면, 단어 인덱스 리스트 벡터로 변환해 주는 함수입니다. \n",
    "# 단, 모든 문장은 <BOS>로 시작하는 것으로 합니다. \n",
    "def get_encoded_sentence(sentence, word_to_index):\n",
    "    return [word_to_index['<BOS>']]+[word_to_index[word] if word in word_to_index else word_to_index['<UNK>'] for word in sentence.split()]\n",
    "\n",
    "# 여러 개의 문장 리스트를 한꺼번에 단어 인덱스 리스트 벡터로 encode해 주는 함수입니다. \n",
    "def get_encoded_sentences(sentences, word_to_index):\n",
    "    return [get_encoded_sentence(sentence, word_to_index) for sentence in sentences]\n",
    "\n",
    "# 숫자 벡터로 encode된 문장을 원래대로 decode하는 함수입니다. \n",
    "def get_decoded_sentence(encoded_sentence, index_to_word):\n",
    "    return ' '.join(index_to_word[index] if index in index_to_word else '<UNK>' for index in encoded_sentence[1:])  #[1:]를 통해 <BOS>를 제외\n",
    "\n",
    "# 여러개의 숫자 벡터로 encode된 문장을 한꺼번에 원래대로 decode하는 함수입니다. \n",
    "def get_decoded_sentences(encoded_sentences, index_to_word):\n",
    "    return [get_decoded_sentence(encoded_sentence, index_to_word) for encoded_sentence in encoded_sentences]"
   ]
  },
  {
   "cell_type": "code",
   "execution_count": 5,
   "metadata": {},
   "outputs": [
    {
     "name": "stdout",
     "output_type": "stream",
     "text": [
      "[32, 74, 919, 4, 4, 39, 228, 20, 33, 748]\n",
      "라벨:  0\n",
      "1번째 리뷰 문장 길이:  10\n",
      "2번째 리뷰 문장 길이:  17\n"
     ]
    }
   ],
   "source": [
    "print(X_train[0])  # 1번째 리뷰데이터\n",
    "print('라벨: ', y_train[0])  # 1번째 리뷰데이터의 라벨\n",
    "print('1번째 리뷰 문장 길이: ', len(X_train[0]))\n",
    "print('2번째 리뷰 문장 길이: ', len(X_train[1]))"
   ]
  },
  {
   "cell_type": "code",
   "execution_count": 6,
   "metadata": {},
   "outputs": [
    {
     "name": "stdout",
     "output_type": "stream",
     "text": [
      "문장길이 평균 :  15.969376315021577\n",
      "문장길이 최대 :  116\n",
      "문장길이 표준편차 :  12.843535456326455\n"
     ]
    }
   ],
   "source": [
    "total_data_text = list(X_train) + list(X_test)\n",
    "# 텍스트데이터 문장길이의 리스트를 생성한 후\n",
    "num_tokens = [len(tokens) for tokens in total_data_text]\n",
    "num_tokens = np.array(num_tokens)\n",
    "# 문장길이의 평균값, 최대값, 표준편차를 계산해 본다. \n",
    "print('문장길이 평균 : ', np.mean(num_tokens))\n",
    "print('문장길이 최대 : ', np.max(num_tokens))\n",
    "print('문장길이 표준편차 : ', np.std(num_tokens))"
   ]
  },
  {
   "cell_type": "code",
   "execution_count": 7,
   "metadata": {},
   "outputs": [
    {
     "name": "stdout",
     "output_type": "stream",
     "text": [
      "pad_sequences maxlen :  41\n",
      "전체 문장의 93.43%가 maxlen 설정값 이내에 포함됩니다. \n"
     ]
    }
   ],
   "source": [
    "# 예를들어, 최대 길이를 (평균 + 2*표준편차)로 한다면,  \n",
    "max_tokens = np.mean(num_tokens) + 2 * np.std(num_tokens)\n",
    "maxlen = int(max_tokens)\n",
    "print('pad_sequences maxlen : ', maxlen)\n",
    "print('전체 문장의 {}%가 maxlen 설정값 이내에 포함됩니다. '.format(round(np.sum(num_tokens < max_tokens) / len(num_tokens)*100, 2) ))"
   ]
  },
  {
   "cell_type": "code",
   "execution_count": 14,
   "metadata": {},
   "outputs": [
    {
     "name": "stdout",
     "output_type": "stream",
     "text": [
      "(146182, 41)\n"
     ]
    }
   ],
   "source": [
    "X_train = keras.preprocessing.sequence.pad_sequences(X_train,\n",
    "                                                        value=word_to_index[\"<PAD>\"],\n",
    "                                                        padding='pre', # 혹은 'pre'\n",
    "                                                        maxlen=maxlen)\n",
    "\n",
    "X_test = keras.preprocessing.sequence.pad_sequences(X_test,\n",
    "                                                       value=word_to_index[\"<PAD>\"],\n",
    "                                                       padding='pre', # 혹은 'pre'\n",
    "                                                       maxlen=maxlen)\n",
    "print(X_train.shape)"
   ]
  },
  {
   "cell_type": "code",
   "execution_count": 15,
   "metadata": {},
   "outputs": [
    {
     "name": "stdout",
     "output_type": "stream",
     "text": [
      "문장길이 평균 :  41.0\n",
      "문장길이 최대 :  41\n",
      "문장길이 표준편차 :  0.0\n"
     ]
    }
   ],
   "source": [
    "# 문장길이의 평균값, 최대값, 표준편차를 다시 계산해본다.\n",
    "total_data_text = list(X_train) + list(X_test)\n",
    "# 텍스트데이터 문장길이의 리스트를 생성한 후\n",
    "num_tokens = [len(tokens) for tokens in total_data_text]\n",
    "num_tokens = np.array(num_tokens)\n",
    "print('문장길이 평균 : ', np.mean(num_tokens))\n",
    "print('문장길이 최대 : ', np.max(num_tokens))\n",
    "print('문장길이 표준편차 : ', np.std(num_tokens))"
   ]
  },
  {
   "cell_type": "code",
   "execution_count": 17,
   "metadata": {},
   "outputs": [
    {
     "name": "stdout",
     "output_type": "stream",
     "text": [
      "(126182, 41)\n",
      "(126182,)\n",
      "(20000, 41)\n",
      "(20000,)\n"
     ]
    }
   ],
   "source": [
    "# validation set 20000건 분리\n",
    "x_val = X_train[:20000]   \n",
    "y_val = y_train[:20000]\n",
    "\n",
    "# validation set을 제외한 나머지\n",
    "partial_X_train = X_train[20000:]  \n",
    "partial_y_train = y_train[20000:]\n",
    "\n",
    "print(partial_X_train.shape)\n",
    "print(partial_y_train.shape)\n",
    "print(x_val.shape)\n",
    "print(y_val.shape)"
   ]
  },
  {
   "cell_type": "code",
   "execution_count": 20,
   "metadata": {},
   "outputs": [],
   "source": [
    "vocab_size = len(index_to_word)\n",
    "word_vector_dim = 300"
   ]
  },
  {
   "cell_type": "code",
   "execution_count": 21,
   "metadata": {},
   "outputs": [
    {
     "name": "stdout",
     "output_type": "stream",
     "text": [
      "Model: \"sequential_2\"\n",
      "_________________________________________________________________\n",
      "Layer (type)                 Output Shape              Param #   \n",
      "=================================================================\n",
      "embedding_3 (Embedding)      (None, None, 16)          160000    \n",
      "_________________________________________________________________\n",
      "conv1d_6 (Conv1D)            (None, None, 16)          1808      \n",
      "_________________________________________________________________\n",
      "max_pooling1d_3 (MaxPooling1 (None, None, 16)          0         \n",
      "_________________________________________________________________\n",
      "conv1d_7 (Conv1D)            (None, None, 16)          1808      \n",
      "_________________________________________________________________\n",
      "global_max_pooling1d_3 (Glob (None, 16)                0         \n",
      "_________________________________________________________________\n",
      "dense_6 (Dense)              (None, 8)                 136       \n",
      "_________________________________________________________________\n",
      "dense_7 (Dense)              (None, 1)                 9         \n",
      "=================================================================\n",
      "Total params: 163,761\n",
      "Trainable params: 163,761\n",
      "Non-trainable params: 0\n",
      "_________________________________________________________________\n"
     ]
    }
   ],
   "source": [
    "vocab_size = 10000    # 어휘 사전의 크기입니다(10,000개의 단어)\n",
    "word_vector_dim = 16  # 워드 벡터의 차원수 (변경가능한 하이퍼파라미터)\n",
    "\n",
    "Cnn_model = keras.Sequential()\n",
    "Cnn_model.add(keras.layers.Embedding(vocab_size, word_vector_dim, input_shape=(None,)))\n",
    "Cnn_model.add(keras.layers.Conv1D(16, 7, activation='relu'))\n",
    "Cnn_model.add(keras.layers.MaxPooling1D(5))\n",
    "Cnn_model.add(keras.layers.Conv1D(16, 7, activation='relu'))\n",
    "Cnn_model.add(keras.layers.GlobalMaxPooling1D())\n",
    "Cnn_model.add(keras.layers.Dense(8, activation='relu'))\n",
    "Cnn_model.add(keras.layers.Dense(1, activation='sigmoid'))  # 최종 출력은 긍정/부정을 나타내는 1dim 입니다.\n",
    "\n",
    "Cnn_model.summary()"
   ]
  },
  {
   "cell_type": "code",
   "execution_count": 22,
   "metadata": {},
   "outputs": [
    {
     "name": "stdout",
     "output_type": "stream",
     "text": [
      "Model: \"LSTM\"\n",
      "_________________________________________________________________\n",
      "Layer (type)                 Output Shape              Param #   \n",
      "=================================================================\n",
      "embedding_4 (Embedding)      (None, None, 16)          160000    \n",
      "_________________________________________________________________\n",
      "lstm (LSTM)                  (None, 8)                 800       \n",
      "_________________________________________________________________\n",
      "dense_8 (Dense)              (None, 8)                 72        \n",
      "_________________________________________________________________\n",
      "dense_9 (Dense)              (None, 1)                 9         \n",
      "=================================================================\n",
      "Total params: 160,881\n",
      "Trainable params: 160,881\n",
      "Non-trainable params: 0\n",
      "_________________________________________________________________\n"
     ]
    }
   ],
   "source": [
    "# LSTM\n",
    "\n",
    "LSTM_model = keras.Sequential(name=\"LSTM\")\n",
    "LSTM_model.add(keras.layers.Embedding(vocab_size, word_vector_dim, input_shape=(None,)))\n",
    "LSTM_model.add(keras.layers.LSTM(8, dropout=0.7))\n",
    "LSTM_model.add(keras.layers.Dense(8, activation='relu'))\n",
    "LSTM_model.add(keras.layers.Dense(1, activation='sigmoid'))\n",
    "\n",
    "LSTM_model.summary()"
   ]
  },
  {
   "cell_type": "code",
   "execution_count": 23,
   "metadata": {},
   "outputs": [
    {
     "name": "stdout",
     "output_type": "stream",
     "text": [
      "Model: \"GMP\"\n",
      "_________________________________________________________________\n",
      "Layer (type)                 Output Shape              Param #   \n",
      "=================================================================\n",
      "embedding_5 (Embedding)      (None, None, 16)          160000    \n",
      "_________________________________________________________________\n",
      "global_max_pooling1d_4 (Glob (None, 16)                0         \n",
      "_________________________________________________________________\n",
      "dense_10 (Dense)             (None, 8)                 136       \n",
      "_________________________________________________________________\n",
      "dense_11 (Dense)             (None, 1)                 9         \n",
      "=================================================================\n",
      "Total params: 160,145\n",
      "Trainable params: 160,145\n",
      "Non-trainable params: 0\n",
      "_________________________________________________________________\n"
     ]
    }
   ],
   "source": [
    "\n",
    "GMP_model = keras.Sequential(name=\"GMP\")\n",
    "GMP_model.add(keras.layers.Embedding(vocab_size, word_vector_dim, input_shape=(None,)))\n",
    "GMP_model.add(keras.layers.GlobalMaxPooling1D())\n",
    "GMP_model.add(keras.layers.Dense(8, activation='relu'))\n",
    "GMP_model.add(keras.layers.Dense(1, activation='sigmoid'))\n",
    "\n",
    "GMP_model.summary()"
   ]
  },
  {
   "cell_type": "code",
   "execution_count": 24,
   "metadata": {},
   "outputs": [
    {
     "data": {
      "text/plain": [
       "['CNN', 'LSTM', 'GMP']"
      ]
     },
     "execution_count": 24,
     "metadata": {},
     "output_type": "execute_result"
    }
   ],
   "source": [
    "model_lst = [CNN_model.name, LSTM_model.name, GMP_model.name]\n",
    "model_lst"
   ]
  },
  {
   "cell_type": "code",
   "execution_count": 25,
   "metadata": {},
   "outputs": [
    {
     "name": "stdout",
     "output_type": "stream",
     "text": [
      "----------------------------------------\n",
      "Start fitting CNN ...\n",
      "Epoch 1/20\n",
      "247/247 [==============================] - 11s 44ms/step - loss: 0.3994 - accuracy: 0.8106 - val_loss: 0.3228 - val_accuracy: 0.8591\n",
      "Epoch 2/20\n",
      "247/247 [==============================] - 8s 34ms/step - loss: 0.2709 - accuracy: 0.8882 - val_loss: 0.3197 - val_accuracy: 0.8637\n",
      "Epoch 3/20\n",
      "247/247 [==============================] - 8s 34ms/step - loss: 0.1800 - accuracy: 0.9311 - val_loss: 0.3580 - val_accuracy: 0.8585\n",
      "Epoch 4/20\n",
      "247/247 [==============================] - 8s 34ms/step - loss: 0.0971 - accuracy: 0.9660 - val_loss: 0.4739 - val_accuracy: 0.8531\n",
      "Epoch 5/20\n",
      "247/247 [==============================] - 8s 34ms/step - loss: 0.0569 - accuracy: 0.9815 - val_loss: 0.5348 - val_accuracy: 0.8461\n",
      "Epoch 6/20\n",
      "247/247 [==============================] - 8s 34ms/step - loss: 0.0409 - accuracy: 0.9869 - val_loss: 0.6814 - val_accuracy: 0.8464\n",
      "Epoch 7/20\n",
      "247/247 [==============================] - 8s 34ms/step - loss: 0.0335 - accuracy: 0.9888 - val_loss: 0.7235 - val_accuracy: 0.8445\n",
      "Epoch 8/20\n",
      "247/247 [==============================] - 8s 34ms/step - loss: 0.0307 - accuracy: 0.9897 - val_loss: 0.7996 - val_accuracy: 0.8447\n",
      "Epoch 9/20\n",
      "247/247 [==============================] - 9s 34ms/step - loss: 0.0324 - accuracy: 0.9889 - val_loss: 0.7779 - val_accuracy: 0.8483\n",
      "Epoch 10/20\n",
      "247/247 [==============================] - 8s 34ms/step - loss: 0.0285 - accuracy: 0.9903 - val_loss: 0.8203 - val_accuracy: 0.8484\n",
      "Epoch 11/20\n",
      "247/247 [==============================] - 8s 34ms/step - loss: 0.0223 - accuracy: 0.9920 - val_loss: 0.9583 - val_accuracy: 0.8491\n",
      "Epoch 12/20\n",
      "247/247 [==============================] - 8s 34ms/step - loss: 0.0185 - accuracy: 0.9932 - val_loss: 0.9868 - val_accuracy: 0.8465\n",
      "Epoch 13/20\n",
      "247/247 [==============================] - 8s 34ms/step - loss: 0.0158 - accuracy: 0.9940 - val_loss: 1.0924 - val_accuracy: 0.8507\n",
      "Epoch 14/20\n",
      "247/247 [==============================] - 8s 34ms/step - loss: 0.0172 - accuracy: 0.9934 - val_loss: 1.0807 - val_accuracy: 0.8469\n",
      "Epoch 15/20\n",
      "247/247 [==============================] - 8s 34ms/step - loss: 0.0174 - accuracy: 0.9934 - val_loss: 1.0278 - val_accuracy: 0.8447\n",
      "Epoch 16/20\n",
      "247/247 [==============================] - 9s 34ms/step - loss: 0.0145 - accuracy: 0.9942 - val_loss: 1.1042 - val_accuracy: 0.8460\n",
      "Epoch 17/20\n",
      "247/247 [==============================] - 8s 34ms/step - loss: 0.0129 - accuracy: 0.9948 - val_loss: 1.0893 - val_accuracy: 0.8464\n",
      "Epoch 18/20\n",
      "247/247 [==============================] - 8s 34ms/step - loss: 0.0133 - accuracy: 0.9945 - val_loss: 1.1258 - val_accuracy: 0.8457\n",
      "Epoch 19/20\n",
      "247/247 [==============================] - 9s 35ms/step - loss: 0.0103 - accuracy: 0.9956 - val_loss: 1.2692 - val_accuracy: 0.8504\n",
      "Epoch 20/20\n",
      "247/247 [==============================] - 8s 34ms/step - loss: 0.0110 - accuracy: 0.9954 - val_loss: 1.3422 - val_accuracy: 0.8442\n",
      "Start evaluating CNN ...\n",
      "1537/1537 - 3s - loss: 1.3727 - accuracy: 0.8407\n",
      "----------------------------------------\n",
      "Start fitting LSTM ...\n",
      "Epoch 1/20\n",
      "247/247 [==============================] - 1s 5ms/step - loss: 0.5506 - accuracy: 0.7309 - val_loss: 0.3902 - val_accuracy: 0.8380\n",
      "Epoch 2/20\n",
      "247/247 [==============================] - 1s 4ms/step - loss: 0.3911 - accuracy: 0.8298 - val_loss: 0.3521 - val_accuracy: 0.8494\n",
      "Epoch 3/20\n",
      "247/247 [==============================] - 1s 4ms/step - loss: 0.3633 - accuracy: 0.8440 - val_loss: 0.3456 - val_accuracy: 0.8508\n",
      "Epoch 4/20\n",
      "247/247 [==============================] - 1s 4ms/step - loss: 0.3528 - accuracy: 0.8479 - val_loss: 0.3444 - val_accuracy: 0.8528\n",
      "Epoch 5/20\n",
      "247/247 [==============================] - 1s 4ms/step - loss: 0.3434 - accuracy: 0.8541 - val_loss: 0.3442 - val_accuracy: 0.8508\n",
      "Epoch 6/20\n",
      "247/247 [==============================] - 1s 4ms/step - loss: 0.3381 - accuracy: 0.8559 - val_loss: 0.3421 - val_accuracy: 0.8532\n",
      "Epoch 7/20\n",
      "247/247 [==============================] - 1s 4ms/step - loss: 0.3336 - accuracy: 0.8580 - val_loss: 0.3426 - val_accuracy: 0.8529\n",
      "Epoch 8/20\n",
      "247/247 [==============================] - 1s 4ms/step - loss: 0.3310 - accuracy: 0.8589 - val_loss: 0.3434 - val_accuracy: 0.8533\n",
      "Epoch 9/20\n",
      "247/247 [==============================] - 1s 4ms/step - loss: 0.3270 - accuracy: 0.8611 - val_loss: 0.3433 - val_accuracy: 0.8528\n",
      "Epoch 10/20\n",
      "247/247 [==============================] - 1s 4ms/step - loss: 0.3256 - accuracy: 0.8613 - val_loss: 0.3419 - val_accuracy: 0.8536\n",
      "Epoch 11/20\n",
      "247/247 [==============================] - 1s 4ms/step - loss: 0.3215 - accuracy: 0.8630 - val_loss: 0.3598 - val_accuracy: 0.8433\n",
      "Epoch 12/20\n",
      "247/247 [==============================] - 1s 4ms/step - loss: 0.3210 - accuracy: 0.8634 - val_loss: 0.3419 - val_accuracy: 0.8520\n",
      "Epoch 13/20\n",
      "247/247 [==============================] - 1s 4ms/step - loss: 0.3177 - accuracy: 0.8654 - val_loss: 0.3419 - val_accuracy: 0.8523\n",
      "Epoch 14/20\n",
      "247/247 [==============================] - 1s 4ms/step - loss: 0.3169 - accuracy: 0.8644 - val_loss: 0.3431 - val_accuracy: 0.8539\n",
      "Epoch 15/20\n",
      "247/247 [==============================] - 1s 4ms/step - loss: 0.3154 - accuracy: 0.8659 - val_loss: 0.3391 - val_accuracy: 0.8536\n",
      "Epoch 16/20\n",
      "247/247 [==============================] - 1s 4ms/step - loss: 0.3132 - accuracy: 0.8665 - val_loss: 0.3405 - val_accuracy: 0.8529\n",
      "Epoch 17/20\n",
      "247/247 [==============================] - 1s 4ms/step - loss: 0.3105 - accuracy: 0.8687 - val_loss: 0.3438 - val_accuracy: 0.8518\n",
      "Epoch 18/20\n",
      "247/247 [==============================] - 1s 4ms/step - loss: 0.3098 - accuracy: 0.8674 - val_loss: 0.3400 - val_accuracy: 0.8514\n",
      "Epoch 19/20\n",
      "247/247 [==============================] - 1s 4ms/step - loss: 0.3080 - accuracy: 0.8681 - val_loss: 0.3380 - val_accuracy: 0.8544\n",
      "Epoch 20/20\n",
      "247/247 [==============================] - 1s 4ms/step - loss: 0.3056 - accuracy: 0.8695 - val_loss: 0.3369 - val_accuracy: 0.8558\n",
      "Start evaluating LSTM ...\n",
      "1537/1537 - 2s - loss: 0.3437 - accuracy: 0.8505\n",
      "----------------------------------------\n",
      "Start fitting GMP ...\n",
      "Epoch 1/20\n",
      "247/247 [==============================] - 1s 3ms/step - loss: 0.6019 - accuracy: 0.7063 - val_loss: 0.4646 - val_accuracy: 0.8159\n",
      "Epoch 2/20\n",
      "247/247 [==============================] - 1s 2ms/step - loss: 0.3910 - accuracy: 0.8385 - val_loss: 0.3670 - val_accuracy: 0.8403\n",
      "Epoch 3/20\n",
      "247/247 [==============================] - 1s 2ms/step - loss: 0.3304 - accuracy: 0.8613 - val_loss: 0.3542 - val_accuracy: 0.8456\n",
      "Epoch 4/20\n",
      "247/247 [==============================] - 1s 2ms/step - loss: 0.3021 - accuracy: 0.8754 - val_loss: 0.3539 - val_accuracy: 0.8464\n",
      "Epoch 5/20\n",
      "247/247 [==============================] - 1s 2ms/step - loss: 0.2819 - accuracy: 0.8849 - val_loss: 0.3574 - val_accuracy: 0.8480\n",
      "Epoch 6/20\n",
      "247/247 [==============================] - 1s 2ms/step - loss: 0.2655 - accuracy: 0.8928 - val_loss: 0.3647 - val_accuracy: 0.8447\n",
      "Epoch 7/20\n",
      "247/247 [==============================] - 1s 2ms/step - loss: 0.2518 - accuracy: 0.8998 - val_loss: 0.3725 - val_accuracy: 0.8453\n",
      "Epoch 8/20\n",
      "247/247 [==============================] - 1s 2ms/step - loss: 0.2398 - accuracy: 0.9050 - val_loss: 0.3818 - val_accuracy: 0.8431\n",
      "Epoch 9/20\n",
      "247/247 [==============================] - 1s 2ms/step - loss: 0.2289 - accuracy: 0.9104 - val_loss: 0.3923 - val_accuracy: 0.8415\n",
      "Epoch 10/20\n",
      "247/247 [==============================] - 1s 2ms/step - loss: 0.2192 - accuracy: 0.9158 - val_loss: 0.4030 - val_accuracy: 0.8410\n",
      "Epoch 11/20\n",
      "247/247 [==============================] - 1s 2ms/step - loss: 0.2106 - accuracy: 0.9194 - val_loss: 0.4151 - val_accuracy: 0.8389\n",
      "Epoch 12/20\n",
      "247/247 [==============================] - 1s 2ms/step - loss: 0.2024 - accuracy: 0.9233 - val_loss: 0.4270 - val_accuracy: 0.8378\n",
      "Epoch 13/20\n",
      "247/247 [==============================] - 1s 2ms/step - loss: 0.1951 - accuracy: 0.9269 - val_loss: 0.4384 - val_accuracy: 0.8367\n",
      "Epoch 14/20\n",
      "247/247 [==============================] - 1s 2ms/step - loss: 0.1884 - accuracy: 0.9295 - val_loss: 0.4521 - val_accuracy: 0.8345\n",
      "Epoch 15/20\n",
      "247/247 [==============================] - 1s 2ms/step - loss: 0.1825 - accuracy: 0.9328 - val_loss: 0.4656 - val_accuracy: 0.8324\n",
      "Epoch 16/20\n",
      "247/247 [==============================] - 1s 2ms/step - loss: 0.1765 - accuracy: 0.9353 - val_loss: 0.4765 - val_accuracy: 0.8315\n",
      "Epoch 17/20\n",
      "247/247 [==============================] - 1s 2ms/step - loss: 0.1714 - accuracy: 0.9373 - val_loss: 0.4891 - val_accuracy: 0.8304\n",
      "Epoch 18/20\n",
      "247/247 [==============================] - 1s 2ms/step - loss: 0.1666 - accuracy: 0.9400 - val_loss: 0.5004 - val_accuracy: 0.8289\n",
      "Epoch 19/20\n",
      "247/247 [==============================] - 1s 2ms/step - loss: 0.1621 - accuracy: 0.9416 - val_loss: 0.5106 - val_accuracy: 0.8288\n",
      "Epoch 20/20\n",
      "247/247 [==============================] - 1s 2ms/step - loss: 0.1580 - accuracy: 0.9436 - val_loss: 0.5215 - val_accuracy: 0.8281\n",
      "Start evaluating GMP ...\n",
      "1537/1537 - 1s - loss: 0.5280 - accuracy: 0.8246\n"
     ]
    }
   ],
   "source": [
    "model_result = {}\n",
    "\n",
    "for model_name in model_lst:\n",
    "    \n",
    "    if model_name == \"CNN\":\n",
    "        model = CNN_model\n",
    "    elif model_name == \"LSTM\":\n",
    "        model = LSTM_model\n",
    "    else :\n",
    "        model = GMP_model\n",
    "    \n",
    "    print('-'*40)\n",
    "    print(\"Start fitting {} ...\".format(model_name))\n",
    "    model.compile(optimizer='Adam',\n",
    "                  loss='binary_crossentropy',\n",
    "                  metrics=['accuracy'])\n",
    "\n",
    "    epochs=20\n",
    "\n",
    "    history = model.fit(partial_X_train,\n",
    "                        partial_y_train,\n",
    "                        epochs=epochs,\n",
    "                        batch_size=512,\n",
    "                        validation_data=(x_val, y_val),\n",
    "                        verbose=1)\n",
    "    \n",
    "    \n",
    "    print(\"Start evaluating {} ...\".format(model_name))\n",
    "    results = model.evaluate(X_test,  y_test, verbose=2)\n",
    "    model_result[model_name] = results\n"
   ]
  },
  {
   "cell_type": "code",
   "execution_count": 26,
   "metadata": {},
   "outputs": [
    {
     "name": "stdout",
     "output_type": "stream",
     "text": [
      "LSTM \t 0.8505197763442993\n",
      "CNN \t 0.8406534194946289\n",
      "GMP \t 0.824623167514801\n"
     ]
    }
   ],
   "source": [
    "for name, [_, acc] in sorted(model_result.items(), key=lambda x : x[1][1], reverse=True) :\n",
    "    print(name,'\\t',acc)"
   ]
  },
  {
   "cell_type": "code",
   "execution_count": 28,
   "metadata": {},
   "outputs": [
    {
     "name": "stdout",
     "output_type": "stream",
     "text": [
      "Model: \"sequential_4\"\n",
      "_________________________________________________________________\n",
      "Layer (type)                 Output Shape              Param #   \n",
      "=================================================================\n",
      "embedding_7 (Embedding)      (None, None, 1000)        10000000  \n",
      "_________________________________________________________________\n",
      "lstm_2 (LSTM)                (None, 128)               578048    \n",
      "_________________________________________________________________\n",
      "dense_14 (Dense)             (None, 8)                 1032      \n",
      "_________________________________________________________________\n",
      "dense_15 (Dense)             (None, 1)                 9         \n",
      "=================================================================\n",
      "Total params: 10,579,089\n",
      "Trainable params: 10,579,089\n",
      "Non-trainable params: 0\n",
      "_________________________________________________________________\n"
     ]
    }
   ],
   "source": [
    "word_vector_dim = 1000  # 워드 벡터의 차원수\n",
    "\n",
    "model = keras.Sequential()\n",
    "model.add(keras.layers.Embedding(vocab_size, word_vector_dim, input_shape=(None,)))\n",
    "# CNN을 추가했을 때\n",
    "# model.add(keras.layers.Conv1D(8, 7, activation='relu'))\n",
    "# model.add(keras.layers.MaxPooling1D())\n",
    "# LSTM 레이어를 두개로 학습했을 때\n",
    "# model.add(keras.layers.LSTM(256, dropout=0.7, return_sequences=True))\n",
    "model.add(keras.layers.LSTM(128, dropout=0.7))\n",
    "model.add(keras.layers.Dense(8, activation='relu'))\n",
    "model.add(keras.layers.Dense(1, activation='sigmoid'))  # 최종 출력은 긍정/부정을 이진분류\n",
    "\n",
    "model.summary()"
   ]
  },
  {
   "cell_type": "code",
   "execution_count": 30,
   "metadata": {},
   "outputs": [],
   "source": [
    "import tensorflow as tf\n",
    "early_stopping = tf.keras.callbacks.EarlyStopping(monitor='val_loss', mode='min', verbose=1, patience=3)\n",
    "model_check = tf.keras.callbacks.ModelCheckpoint('model.h5', monitor='val_accuracy', mode='max', verbose=1, save_best_only=True)"
   ]
  },
  {
   "cell_type": "code",
   "execution_count": 31,
   "metadata": {},
   "outputs": [
    {
     "name": "stdout",
     "output_type": "stream",
     "text": [
      "Epoch 1/20\n",
      "986/986 [==============================] - ETA: 0s - loss: 0.3914 - accuracy: 0.8200\n",
      "Epoch 00001: val_accuracy improved from -inf to 0.85390, saving model to model.h5\n",
      "986/986 [==============================] - 74s 75ms/step - loss: 0.3914 - accuracy: 0.8200 - val_loss: 0.3303 - val_accuracy: 0.8539\n",
      "Epoch 2/20\n",
      "986/986 [==============================] - ETA: 0s - loss: 0.3094 - accuracy: 0.8667\n",
      "Epoch 00002: val_accuracy improved from 0.85390 to 0.86160, saving model to model.h5\n",
      "986/986 [==============================] - 73s 74ms/step - loss: 0.3094 - accuracy: 0.8667 - val_loss: 0.3187 - val_accuracy: 0.8616\n",
      "Epoch 3/20\n",
      "986/986 [==============================] - ETA: 0s - loss: 0.2742 - accuracy: 0.8831\n",
      "Epoch 00003: val_accuracy improved from 0.86160 to 0.86645, saving model to model.h5\n",
      "986/986 [==============================] - 73s 74ms/step - loss: 0.2742 - accuracy: 0.8831 - val_loss: 0.3108 - val_accuracy: 0.8665\n",
      "Epoch 4/20\n",
      "986/986 [==============================] - ETA: 0s - loss: 0.2490 - accuracy: 0.8943\n",
      "Epoch 00004: val_accuracy improved from 0.86645 to 0.86745, saving model to model.h5\n",
      "986/986 [==============================] - 73s 74ms/step - loss: 0.2490 - accuracy: 0.8943 - val_loss: 0.3158 - val_accuracy: 0.8674\n",
      "Epoch 5/20\n",
      "986/986 [==============================] - ETA: 0s - loss: 0.2279 - accuracy: 0.9057\n",
      "Epoch 00005: val_accuracy did not improve from 0.86745\n",
      "986/986 [==============================] - 73s 74ms/step - loss: 0.2279 - accuracy: 0.9057 - val_loss: 0.3287 - val_accuracy: 0.8668\n",
      "Epoch 6/20\n",
      "986/986 [==============================] - ETA: 0s - loss: 0.2089 - accuracy: 0.9140\n",
      "Epoch 00006: val_accuracy did not improve from 0.86745\n",
      "986/986 [==============================] - 73s 74ms/step - loss: 0.2089 - accuracy: 0.9140 - val_loss: 0.3357 - val_accuracy: 0.8663\n",
      "Epoch 00006: early stopping\n"
     ]
    }
   ],
   "source": [
    "model.compile(optimizer=tf.keras.optimizers.Adam(learning_rate=0.0005),\n",
    "              loss='binary_crossentropy',\n",
    "              metrics=['accuracy'])\n",
    "              \n",
    "epochs=20\n",
    "history = model.fit(partial_X_train,\n",
    "                    partial_y_train,\n",
    "                    epochs=epochs,\n",
    "                    batch_size=128,\n",
    "                    validation_data=(x_val, y_val),\n",
    "                    verbose=1,\n",
    "                   callbacks=[early_stopping, model_check])"
   ]
  },
  {
   "cell_type": "code",
   "execution_count": 32,
   "metadata": {},
   "outputs": [
    {
     "name": "stdout",
     "output_type": "stream",
     "text": [
      "1537/1537 - 3s - loss: 0.3409 - accuracy: 0.8617\n",
      "[0.3408955931663513, 0.8616676926612854]\n"
     ]
    }
   ],
   "source": [
    "results = model.evaluate(X_test,  y_test, verbose=2)\n",
    "\n",
    "print(results)"
   ]
  },
  {
   "cell_type": "code",
   "execution_count": 33,
   "metadata": {},
   "outputs": [],
   "source": [
    "history_dict = history.history"
   ]
  },
  {
   "cell_type": "code",
   "execution_count": 34,
   "metadata": {},
   "outputs": [
    {
     "data": {
      "image/png": "[encoded data removed]",
      "text/plain": [
       "<Figure size 432x288 with 1 Axes>"
      ]
     },
     "metadata": {
      "needs_background": "light"
     },
     "output_type": "display_data"
    }
   ],
   "source": [
    "import matplotlib.pyplot as plt\n",
    "\n",
    "acc = history_dict['accuracy']\n",
    "val_acc = history_dict['val_accuracy']\n",
    "loss = history_dict['loss']\n",
    "val_loss = history_dict['val_loss']\n",
    "\n",
    "epochs = range(1, len(acc) + 1)\n",
    "\n",
    "# 빨간 실선으로 표시\n",
    "plt.plot(epochs, loss, 'r', label='Training loss')\n",
    "# 파란 실선으로 표시\n",
    "plt.plot(epochs, val_loss, 'b', label='Validation loss')\n",
    "plt.title('Training and validation loss')\n",
    "plt.xlabel('Epochs')\n",
    "plt.ylabel('Loss')\n",
    "plt.grid()\n",
    "plt.legend()\n",
    "\n",
    "plt.show()"
   ]
  },
  {
   "cell_type": "code",
   "execution_count": 35,
   "metadata": {},
   "outputs": [
    {
     "name": "stdout",
     "output_type": "stream",
     "text": [
      "(10000, 1000)\n"
     ]
    }
   ],
   "source": [
    "embedding_layer = model.layers[0]\n",
    "weights = embedding_layer.get_weights()[0]\n",
    "print(weights.shape)"
   ]
  },
  {
   "cell_type": "code",
   "execution_count": 36,
   "metadata": {},
   "outputs": [],
   "source": [
    "import os\n",
    "\n",
    "# 학습한 Embedding 파라미터를 파일에 써서 저장\n",
    "word2vec_file_path = os.getenv('HOME')+'/aiffel/sentiment_classification/word2vec.txt'\n",
    "f = open(word2vec_file_path, 'w')\n",
    "f.write('{} {}\\n'.format(vocab_size-4, word_vector_dim)) # 몇개의 벡터를 얼마 사이즈로 기재할지 타이틀작성\n",
    "\n",
    "# 단어 개수(에서 특수문자 4개는 제외하고)만큼의 워드 벡터를 파일에 기록\n",
    "vectors = model.get_weights()[0]\n",
    "for i in range(4,vocab_size):\n",
    "    f.write('{} {}\\n'.format(index_to_word[i], ' '.join(map(str, list(vectors[i, :])))))\n",
    "f.close()"
   ]
  },
  {
   "cell_type": "code",
   "execution_count": 37,
   "metadata": {},
   "outputs": [],
   "source": [
    "from gensim.models.keyedvectors import Word2VecKeyedVectors\n",
    "\n",
    "word_vectors = Word2VecKeyedVectors.load_word2vec_format(word2vec_file_path, binary=False)\n",
    "vector = word_vectors['기쁨']"
   ]
  },
  {
   "cell_type": "code",
   "execution_count": 38,
   "metadata": {},
   "outputs": [
    {
     "data": {
      "text/plain": [
       "[('슬퍼요', 0.5188561081886292),\n",
       " ('색다르', 0.515166699886322),\n",
       " ('신들린', 0.5050404071807861),\n",
       " ('이영애', 0.5040378570556641),\n",
       " ('완소', 0.502723753452301),\n",
       " ('멋져요', 0.5004808306694031),\n",
       " ('love', 0.495347797870636),\n",
       " ('Good', 0.49451780319213867),\n",
       " ('귓가', 0.49305373430252075),\n",
       " ('웰메이드', 0.49173200130462646)]"
      ]
     },
     "execution_count": 38,
     "metadata": {},
     "output_type": "execute_result"
    }
   ],
   "source": [
    "word_vectors.similar_by_word(\"기쁨\")"
   ]
  },
  {
   "cell_type": "code",
   "execution_count": null,
   "metadata": {},
   "outputs": [],
   "source": []
  },
  {
   "cell_type": "code",
   "execution_count": null,
   "metadata": {},
   "outputs": [],
   "source": []
  },
  {
   "cell_type": "code",
   "execution_count": null,
   "metadata": {},
   "outputs": [],
   "source": []
  },
  {
   "cell_type": "code",
   "execution_count": null,
   "metadata": {},
   "outputs": [],
   "source": []
  },
  {
   "cell_type": "code",
   "execution_count": null,
   "metadata": {},
   "outputs": [],
   "source": []
  },
  {
   "cell_type": "code",
   "execution_count": null,
   "metadata": {},
   "outputs": [],
   "source": []
  },
  {
   "cell_type": "code",
   "execution_count": null,
   "metadata": {},
   "outputs": [],
   "source": []
  }
 ],
 "metadata": {
  "kernelspec": {
   "display_name": "aiffel",
   "language": "python",
   "name": "aiffel"
  },
  "language_info": {
   "codemirror_mode": {
    "name": "ipython",
    "version": 3
   },
   "file_extension": ".py",
   "mimetype": "text/x-python",
   "name": "python",
   "nbconvert_exporter": "python",
   "pygments_lexer": "ipython3",
   "version": "3.7.6"
  }
 },
 "nbformat": 4,
 "nbformat_minor": 4
}
